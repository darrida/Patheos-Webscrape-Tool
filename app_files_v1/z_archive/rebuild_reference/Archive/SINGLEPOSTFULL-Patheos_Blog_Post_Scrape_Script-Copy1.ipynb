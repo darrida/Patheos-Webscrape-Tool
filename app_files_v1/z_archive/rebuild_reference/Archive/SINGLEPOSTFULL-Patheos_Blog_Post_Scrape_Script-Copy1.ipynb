{
 "cells": [
  {
   "cell_type": "code",
   "execution_count": 1,
   "metadata": {},
   "outputs": [],
   "source": [
    "from bs4 import BeautifulSoup as BS\n",
    "import pandas as pd\n",
    "import csv\n",
    "import requests\n",
    "import re\n",
    "import numpy as np"
   ]
  },
  {
   "cell_type": "code",
   "execution_count": 2,
   "metadata": {},
   "outputs": [],
   "source": [
    "## This first url is the one that worked for the code below.\n",
    "url = 'http://www.patheos.com/blogs/purposeinleadership/2016/07/06/leading-emotional-culture/'\n",
    "# url = 'http://www.patheos.com/blogs/victoriousliving/2018/01/5-steps-spiritual-nourishment/'\n",
    "response = requests.get(url)"
   ]
  },
  {
   "cell_type": "code",
   "execution_count": 3,
   "metadata": {},
   "outputs": [],
   "source": [
    "soup = BS(response.content, 'html.parser')\n",
    "#soup.prettify"
   ]
  },
  {
   "cell_type": "code",
   "execution_count": 4,
   "metadata": {},
   "outputs": [
    {
     "name": "stdout",
     "output_type": "stream",
     "text": [
      "TITLE\n",
      "Leading Emotional Culture in Organizations\n",
      "DATE\n",
      " July 6, 2016 by \n",
      "AUTHOR\n",
      "Justin Irving\n",
      "URL\n",
      "http://www.patheos.com/blogs/purposeinleadership/2016/07/06/leading-emotional-culture/\n",
      "CONTENT\n",
      "\n",
      "\n",
      "Photo Credit: Comparing leadership cultures and creating change, by opensource.com\n",
      "Though a bit staggered in the past weeks, I’m in mini-series engaging the importance of organizational culture.\n",
      "I began by engaging Why Organizational Culture Matters (“Why Culture Eats Strategy for Breakfast”). In that post, I engaged the questions…\n",
      "\n",
      "What Is Organizational Culture? And,\n",
      "Why Does Organizational Culture Matter?\n",
      "\n",
      "\n",
      "\n",
      "Based on answers to these questions I concluded that leaders must focus on both smart strategy AND healthy culture in their leadership work.\n",
      "Next, I presented a case for Engaging the Emotional Side of Organizational Culture, and discussed the following:\n",
      "\n",
      "Why emotional culture matters for organizations, and\n",
      "What leaders can do to positively create and shape a healthy emotional culture.\n",
      "\n",
      "At the end of that post I noted recommendations from Barsade and O’Neill — three key steps in this process:\n",
      "\n",
      "“Harness what people already feel”\n",
      "“Model the emotions you want to cultivate”\n",
      "“Get people to fake it till they feel it”\n",
      "\n",
      "\n",
      "\n",
      "At this point I want to take some time to provide additional reflections around these points and encourage you regarding how you can positively shape the emotional culture of your team or organization.\n",
      "Here are reflections on each of these steps.\n",
      "What Can Leaders Do about It?\n",
      "“Harness What People Already Feel”\n",
      "Because organizational members are already experiencing and exhibiting, this also means that many are likely already exhibiting the desired emotional culture. The key from a leadership and managerial perspective is to “catch” these individuals doing the right thing.\n",
      "On this point, Ken Blanchard argues that one of the most effective managerial practices is to focus on what employees are doing well—catching them doing the right thing. This practice can be applied to nurturing healthy emotional culture.  One example from the Barsade and O’Neill article was a “kudos board” used in an ICU hospital unit. It was board used to celebrate how the hospital staff embodied the desired emotional culture in their unit and organization.\n",
      "\n",
      "\n",
      "“Model the Emotions You Want to Cultivate”\n",
      "In addition to harnessing what people already feel, leaders and managers modeling the emotions they want to cultivate is also vital. Barsade and O’Neill provide the following managerial example:\n",
      "“If you regularly walk into a room smiling with high energy, you’re much more likely to create a culture of joy than if you wear a neutral expression. Your employees will smile back and start to mean it.”\n",
      "“Get People to Fake It Till They Feel It”\n",
      "Authenticity is important. But it is important to not only express present feelings, but to nurture other positive and healthy feelings that are productive for employees, customers, organizational constituents, and the organization as a whole. I see the authentic way of talking about this is around the language ofaspirational emotional culture.\n",
      "\n",
      "\n",
      "\n",
      "\n",
      "It is okay to recognize the gap between where individuals are presently and intentionally or strategically working toward the aspirational reality. Both spontaneous and strategic emotional expression is meaningful and valuable.\n",
      "In many ways, this is what emotional intelligence is all about—the appraisal and expression of emotion. Emotional intelligence begins with recognizing what is happening at the emotional level in ourselves and others, and then responding to and out of these emotions in ways that are healthy and productive.\n",
      "Social psychologists support the idea that conformity to group emotional expression norms is a common reality in life. Such conformity to emotional norms benefits both the individual and the organization. Based on these realities, Barsade and Olivia O’Neill recommend approaching emotional expression through what they call deep acting. In contrast to surface acting, deep acting may be used in developing long-term solutions: “with this technique, people make a focused effort to feel a certain way, and then suddenly they do.”\n",
      "\n",
      "\n",
      "Emotional Cultures Do Not Improve\n",
      "without Focus at All Levels\n",
      "The above strategies are practical recommendations for how to proactively create and shape a healthy organizational culture in your organization, division, or team. Consistent with the above, it is important to emphasize that no organizational level is exempt from this work—especially top level management and leadership.\n",
      "On this point, Barsade and O’Neill note:\n",
      "“Just like other aspects of organizational culture, emotional culture should be supported at all levels of the organization. The role of top management is to drive it. …it’s up to senior leaders to establish which emotions will help the organization thrive, model those emotions, and reward others for doing the same.”\n",
      "Healthy Emotional Culture and You\n",
      "\n",
      "\n",
      "As with most leadership endeavors, the best place to start is looking in the mirror and seeing what positive steps you can take to influence others around you. Here are a few questions to trigger your thoughts on this topic:\n",
      "\n",
      "As you consider the insights on nurturing a healthy emotional culture in your organization, what can you do in the coming days, weeks, and months to make progress on your organization’s emotional culture?\n",
      "Are there emotions you can express even tomorrow (e.g., nurturing joy through regular smiles)?\n",
      "Are there systems you can set up that provide opportunity for individuals and organizations to better pay attention to the emotional climate and culture in your organization?\n",
      "\n",
      "For some, this work will be natural and easy. For others, this will be hard work. In either case, healthy organizational culture includes healthy emotional culture. Take time to prioritize the emotional health of your organization’s culture in the coming days.\n",
      "\n",
      "\n",
      "\n",
      "\n",
      "\n"
     ]
    }
   ],
   "source": [
    "## this identifies the locations of the blog post Title, Author, Content, \n",
    "## and generalized Date (still need to find a way to strip this out)\n",
    "indiv_post = []\n",
    "g_title = soup.find(\"h1\", {\"class\" : \"entry-title\"})\n",
    "for g_basic in soup.find_all(\"div\", {\"class\": \"pull-left\"})[14:15]:\n",
    "    g_author = g_basic.find(\"span\", {\"itemprop\": \"author\"})\n",
    "    g_date = g_basic.find(string=re.compile(\" \"))\n",
    "g_content = soup.find(\"div\", {\"class\": \"story-block\"})\n",
    "\n",
    "## this prints the information so that I can see what I'm doing (including labels above each type of info)\n",
    "print(\"TITLE\")\n",
    "print(g_title.text)\n",
    "print(\"DATE\")\n",
    "print(g_date)\n",
    "print(\"AUTHOR\")\n",
    "print(g_author.text)\n",
    "print(\"URL\")\n",
    "print(url)\n",
    "print(\"CONTENT\")\n",
    "print(g_content.text)"
   ]
  },
  {
   "cell_type": "code",
   "execution_count": 5,
   "metadata": {},
   "outputs": [],
   "source": [
    "# This creates the dictionary that houses the raw data from the blog posts\n",
    "raw_data = {'post': [g_title.text],\n",
    "            'date': [g_date],\n",
    "            'author': [g_author.text],\n",
    "            'content': [g_content.text],\n",
    "            'url': [url]}"
   ]
  },
  {
   "cell_type": "code",
   "execution_count": 18,
   "metadata": {},
   "outputs": [
    {
     "data": {
      "text/html": [
       "<div>\n",
       "<style scoped>\n",
       "    .dataframe tbody tr th:only-of-type {\n",
       "        vertical-align: middle;\n",
       "    }\n",
       "\n",
       "    .dataframe tbody tr th {\n",
       "        vertical-align: top;\n",
       "    }\n",
       "\n",
       "    .dataframe thead th {\n",
       "        text-align: right;\n",
       "    }\n",
       "</style>\n",
       "<table border=\"1\" class=\"dataframe\">\n",
       "  <thead>\n",
       "    <tr style=\"text-align: right;\">\n",
       "      <th></th>\n",
       "      <th>post</th>\n",
       "      <th>date</th>\n",
       "      <th>author</th>\n",
       "      <th>content</th>\n",
       "      <th>url</th>\n",
       "    </tr>\n",
       "  </thead>\n",
       "  <tbody>\n",
       "  </tbody>\n",
       "</table>\n",
       "</div>"
      ],
      "text/plain": [
       "Empty DataFrame\n",
       "Columns: [post, date, author, content, url]\n",
       "Index: []"
      ]
     },
     "execution_count": 18,
     "metadata": {},
     "output_type": "execute_result"
    }
   ],
   "source": [
    "# This creates a Pandas DataFrame to insert the dictionary content into, including specifying columns for the info\n",
    "#df = pd.DataFrame(raw_data, columns = ['post', 'date', 'author', 'content', 'url'])\n",
    "#df"
   ]
  },
  {
   "cell_type": "code",
   "execution_count": 31,
   "metadata": {},
   "outputs": [
    {
     "data": {
      "text/html": [
       "<div>\n",
       "<style scoped>\n",
       "    .dataframe tbody tr th:only-of-type {\n",
       "        vertical-align: middle;\n",
       "    }\n",
       "\n",
       "    .dataframe tbody tr th {\n",
       "        vertical-align: top;\n",
       "    }\n",
       "\n",
       "    .dataframe thead th {\n",
       "        text-align: right;\n",
       "    }\n",
       "</style>\n",
       "<table border=\"1\" class=\"dataframe\">\n",
       "  <thead>\n",
       "    <tr style=\"text-align: right;\">\n",
       "      <th></th>\n",
       "      <th>post</th>\n",
       "      <th>date</th>\n",
       "      <th>author</th>\n",
       "      <th>content</th>\n",
       "      <th>url</th>\n",
       "    </tr>\n",
       "  </thead>\n",
       "  <tbody>\n",
       "    <tr>\n",
       "      <th>0</th>\n",
       "      <td>Leading Emotional Culture in Organizations</td>\n",
       "      <td>July 6, 2016 by</td>\n",
       "      <td>Justin Irving</td>\n",
       "      <td>\\n\\nPhoto Credit: Comparing leadership culture...</td>\n",
       "      <td>http://www.patheos.com/blogs/purposeinleadersh...</td>\n",
       "    </tr>\n",
       "  </tbody>\n",
       "</table>\n",
       "</div>"
      ],
      "text/plain": [
       "                                         post               date  \\\n",
       "0  Leading Emotional Culture in Organizations   July 6, 2016 by    \n",
       "\n",
       "          author                                            content  \\\n",
       "0  Justin Irving  \\n\\nPhoto Credit: Comparing leadership culture...   \n",
       "\n",
       "                                                 url  \n",
       "0  http://www.patheos.com/blogs/purposeinleadersh...  "
      ]
     },
     "execution_count": 31,
     "metadata": {},
     "output_type": "execute_result"
    }
   ],
   "source": [
    "df = pd.DataFrame([[g_title.text, g_date, g_author.text, g_content.text, url]], columns=('post','date','author','content','url'))\n",
    "df"
   ]
  },
  {
   "cell_type": "code",
   "execution_count": 32,
   "metadata": {},
   "outputs": [
    {
     "data": {
      "text/html": [
       "<div>\n",
       "<style scoped>\n",
       "    .dataframe tbody tr th:only-of-type {\n",
       "        vertical-align: middle;\n",
       "    }\n",
       "\n",
       "    .dataframe tbody tr th {\n",
       "        vertical-align: top;\n",
       "    }\n",
       "\n",
       "    .dataframe thead th {\n",
       "        text-align: right;\n",
       "    }\n",
       "</style>\n",
       "<table border=\"1\" class=\"dataframe\">\n",
       "  <thead>\n",
       "    <tr style=\"text-align: right;\">\n",
       "      <th></th>\n",
       "      <th>post</th>\n",
       "      <th>date</th>\n",
       "      <th>author</th>\n",
       "      <th>content</th>\n",
       "      <th>url</th>\n",
       "    </tr>\n",
       "  </thead>\n",
       "  <tbody>\n",
       "    <tr>\n",
       "      <th>0</th>\n",
       "      <td>other</td>\n",
       "      <td>other</td>\n",
       "      <td>other</td>\n",
       "      <td>other</td>\n",
       "      <td>other</td>\n",
       "    </tr>\n",
       "  </tbody>\n",
       "</table>\n",
       "</div>"
      ],
      "text/plain": [
       "    post   date author content    url\n",
       "0  other  other  other   other  other"
      ]
     },
     "execution_count": 32,
     "metadata": {},
     "output_type": "execute_result"
    }
   ],
   "source": [
    "df2 = pd.DataFrame([[g_title.text, g_date, g_author.text, g_content.text, url]], columns=('post','date','author','content','url'))\n",
    "df2"
   ]
  },
  {
   "cell_type": "code",
   "execution_count": 36,
   "metadata": {},
   "outputs": [],
   "source": [
    "df = df.append(df2, ignore_index=True)\n"
   ]
  },
  {
   "cell_type": "code",
   "execution_count": 37,
   "metadata": {},
   "outputs": [
    {
     "data": {
      "text/html": [
       "<div>\n",
       "<style scoped>\n",
       "    .dataframe tbody tr th:only-of-type {\n",
       "        vertical-align: middle;\n",
       "    }\n",
       "\n",
       "    .dataframe tbody tr th {\n",
       "        vertical-align: top;\n",
       "    }\n",
       "\n",
       "    .dataframe thead th {\n",
       "        text-align: right;\n",
       "    }\n",
       "</style>\n",
       "<table border=\"1\" class=\"dataframe\">\n",
       "  <thead>\n",
       "    <tr style=\"text-align: right;\">\n",
       "      <th></th>\n",
       "      <th>post</th>\n",
       "      <th>date</th>\n",
       "      <th>author</th>\n",
       "      <th>content</th>\n",
       "      <th>url</th>\n",
       "    </tr>\n",
       "  </thead>\n",
       "  <tbody>\n",
       "    <tr>\n",
       "      <th>0</th>\n",
       "      <td>Leading Emotional Culture in Organizations</td>\n",
       "      <td>July 6, 2016 by</td>\n",
       "      <td>Justin Irving</td>\n",
       "      <td>\\n\\nPhoto Credit: Comparing leadership culture...</td>\n",
       "      <td>http://www.patheos.com/blogs/purposeinleadersh...</td>\n",
       "    </tr>\n",
       "    <tr>\n",
       "      <th>1</th>\n",
       "      <td>other</td>\n",
       "      <td>other</td>\n",
       "      <td>other</td>\n",
       "      <td>other</td>\n",
       "      <td>other</td>\n",
       "    </tr>\n",
       "  </tbody>\n",
       "</table>\n",
       "</div>"
      ],
      "text/plain": [
       "                                         post               date  \\\n",
       "0  Leading Emotional Culture in Organizations   July 6, 2016 by    \n",
       "1                                       other              other   \n",
       "\n",
       "          author                                            content  \\\n",
       "0  Justin Irving  \\n\\nPhoto Credit: Comparing leadership culture...   \n",
       "1          other                                              other   \n",
       "\n",
       "                                                 url  \n",
       "0  http://www.patheos.com/blogs/purposeinleadersh...  \n",
       "1                                              other  "
      ]
     },
     "execution_count": 37,
     "metadata": {},
     "output_type": "execute_result"
    }
   ],
   "source": [
    "df"
   ]
  },
  {
   "cell_type": "markdown",
   "metadata": {},
   "source": [
    "d = {'key':'value'}\n",
    "print(d)\n",
    "# {'key': 'value'}\n",
    "d['mynewkey'] = 'mynewvalue'\n",
    "print(d)\n",
    "# {'mynewkey': 'mynewvalue', 'key': 'value'}"
   ]
  }
 ],
 "metadata": {
  "kernelspec": {
   "display_name": "Python 3",
   "language": "python",
   "name": "python3"
  },
  "language_info": {
   "codemirror_mode": {
    "name": "ipython",
    "version": 3
   },
   "file_extension": ".py",
   "mimetype": "text/x-python",
   "name": "python",
   "nbconvert_exporter": "python",
   "pygments_lexer": "ipython3",
   "version": "3.6.5"
  }
 },
 "nbformat": 4,
 "nbformat_minor": 2
}
