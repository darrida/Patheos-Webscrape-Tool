{
 "cells": [
  {
   "cell_type": "code",
   "execution_count": null,
   "metadata": {},
   "outputs": [],
   "source": [
    "from bs4 import BeautifulSoup as BS\n",
    "import pandas as pd\n",
    "import csv\n",
    "import requests\n",
    "from tqdm import tqdm\n",
    "from pandas.io.sql import SQLTable\n",
    "import webscrape_pd_scrape_patheos as pscrape\n",
    "#import numpy as np\n",
    "#import cx_Oracle\n",
    "#import parse_tns as tns\n",
    "#from sqlalchemy import types, create_engine\n",
    "#import time\n",
    "#import sys\n",
    "#import re\n",
    "#import openpyxl\n",
    "#import colorama\n",
    "#from urllib.request import urlopen, URLError"
   ]
  },
  {
   "cell_type": "code",
   "execution_count": null,
   "metadata": {},
   "outputs": [],
   "source": [
    "blog = \"https://www.patheos.com/blogs/keithgiles/\"\n",
    "test_list = []\n",
    "test_list.append(blog)\n",
    "\n",
    "\n",
    "def blog_find_pages(blogname_list):\n",
    "    p = 1\n",
    "    url_list = []\n",
    "    continue_on = True\n",
    "    page_prefix = \"page/\"\n",
    "    \n",
    "    for i in blogname_list:\n",
    "        while continue_on == True:\n",
    "            blog_page_url = i + page_prefix + str(p) #blogname_list + page_prefix + str(p)\n",
    "            url_test = requests.get(blog_page_url)\n",
    "            if url_test.status_code != 404:\n",
    "                url_list.append(blog_page_url)\n",
    "                print(blog_page_url)\n",
    "                p = p + 1\n",
    "                continue_on = True\n",
    "            else:\n",
    "                continue_on = False\n",
    "    else:\n",
    "        return url_list\n",
    "    \n",
    "url_list = blog_find_pages(test_list)"
   ]
  },
  {
   "cell_type": "code",
   "execution_count": null,
   "metadata": {},
   "outputs": [],
   "source": [
    "\n",
    "\n",
    "def fetch_page_posts(pages_url_list):\n",
    "    subblog_list = []\n",
    "\n",
    "    while True:\n",
    "        i = 0    \n",
    "        for blog_urls in tqdm(pages_url_list, desc='Fetch Post URLs from Blogs (pass 1)'):\n",
    "            if blog_urls: # and (i < 10):\n",
    "                subsub_blog = requests.get(blog_urls)\n",
    "                if subsub_blog != \"<Response [404]>\":\n",
    "                    soup2 = BS(subsub_blog.content, 'html.parser')\n",
    "                    for blog in soup2.find_all('h2', attrs={\"class\":\"entry-title\"}):\n",
    "                        blog_url1 = blog.find('a')\n",
    "                        blog_url2 = blog_url1['href']\n",
    "                        subblog_list.append(blog_url2) \n",
    "                    i = i + 1\n",
    "            else:\n",
    "                continue\n",
    "        else:\n",
    "            break\n",
    "    return subblog_list\n",
    "\n",
    "posts_list = fetch_page_posts(url_list)\n",
    "\n",
    "len(posts_list)\n",
    "\n",
    "for i in posts_list:\n",
    "    print(i)"
   ]
  },
  {
   "cell_type": "code",
   "execution_count": null,
   "metadata": {},
   "outputs": [],
   "source": [
    "df = pscrape.full_scrape(subblog_list, \"yes\")"
   ]
  },
  {
   "cell_type": "code",
   "execution_count": null,
   "metadata": {},
   "outputs": [],
   "source": [
    "df"
   ]
  },
  {
   "cell_type": "code",
   "execution_count": null,
   "metadata": {},
   "outputs": [],
   "source": [
    "df.to_excel('patheos_posts_content.xlsx')\n",
    "df.to_csv('patheos_posts_content.csv')"
   ]
  }
 ],
 "metadata": {
  "kernelspec": {
   "display_name": "Python 3",
   "language": "python",
   "name": "python3"
  },
  "language_info": {
   "codemirror_mode": {
    "name": "ipython",
    "version": 3
   },
   "file_extension": ".py",
   "mimetype": "text/x-python",
   "name": "python",
   "nbconvert_exporter": "python",
   "pygments_lexer": "ipython3",
   "version": "3.7.3"
  }
 },
 "nbformat": 4,
 "nbformat_minor": 2
}
