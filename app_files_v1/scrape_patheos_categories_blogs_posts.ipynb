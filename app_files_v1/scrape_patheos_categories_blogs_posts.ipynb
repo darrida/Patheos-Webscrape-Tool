{
 "nbformat": 4,
 "nbformat_minor": 2,
 "metadata": {
  "language_info": {
   "name": "python",
   "codemirror_mode": {
    "name": "ipython",
    "version": 3
   },
   "version": "3.8.2-final"
  },
  "orig_nbformat": 2,
  "file_extension": ".py",
  "mimetype": "text/x-python",
  "name": "python",
  "npconvert_exporter": "python",
  "pygments_lexer": "ipython3",
  "version": 3,
  "kernelspec": {
   "name": "python38264bitvenvvenvec9a0c7bd09e403bab652ad9ac5e08b9",
   "display_name": "Python 3.8.2 64-bit ('venv': venv)"
  }
 },
 "cells": [
  {
   "cell_type": "code",
   "execution_count": 1,
   "metadata": {},
   "outputs": [],
   "source": [
    "# STANDARD\n",
    "from pprint import pprint\n",
    "\n",
    "# PyPI\n",
    "from bs4 import BeautifulSoup as BS\n",
    "import requests\n",
    "from tqdm import tqdm\n",
    "\n",
    "# LOCAL\n",
    "from interface_db import db_interface_sqlite as data"
   ]
  },
  {
   "cell_type": "code",
   "execution_count": 2,
   "metadata": {},
   "outputs": [],
   "source": [
    "class insert_results:\n",
    "    def __init__(self, inserted=0, not_inserted=0, exceptions=0):\n",
    "        self.inserted = inserted\n",
    "        self.not_inserted = not_inserted\n",
    "        self.exceptions = exceptions"
   ]
  },
  {
   "cell_type": "code",
   "execution_count": 3,
   "metadata": {},
   "outputs": [],
   "source": [
    "def parse_html(url: str) -> str:\n",
    "    \"\"\"Process and return the parsed html of any webpage.\n",
    "\n",
    "    Arguments:\n",
    "        url (str): webpage address to be processed\n",
    "\n",
    "    Return\n",
    "        str: [potentially large] string of parsed html\n",
    "\n",
    "    \"\"\"\n",
    "    response = requests.get(url)\n",
    "    return BS(response.content, 'html.parser')\n",
    "\n",
    "\n",
    "def check_url_new(table: str, url: str) -> bool:\n",
    "    \"\"\"Check a URL against a database table to see if it already exists.\n",
    "    \n",
    "    Arguments:\n",
    "        url (str): webpage page address to check against database table\n",
    "        table (str): database table to check against\n",
    "\n",
    "    Return\n",
    "        bool: True if url exists in given table; False if it doesn't exist.\n",
    "    \n",
    "    \"\"\"\n",
    "    with data.database() as db:\n",
    "        existing_url = db.execute(f'SELECT url FROM {table} WHERE url = \\'{url}\\'')\n",
    "        if len(existing_url) == 0:\n",
    "            return True\n",
    "        else: \n",
    "            return False\n",
    "\n",
    "\n",
    "def remove_smart_quotes (text):\n",
    "  return text.replace(u\"\\u2018\", \"'\") \\\n",
    "             .replace(u\"\\u2019\", \"'\") \\\n",
    "             .replace(u\"\\u201c\", '\"') \\\n",
    "             .replace(u\"\\u201d\", '\"') \\\n",
    "             .replace(u'\"', '')\n",
    "\n",
    "\n",
    "def validate_web_url(url_test):\n",
    "    try:\n",
    "        #print(url_test)\n",
    "        urlopen(url_test)\n",
    "        return True\n",
    "    except URLError:\n",
    "        return False\n",
    "\n",
    "\n",
    "def unicode_escape(df_results: dataframe) -> dataframe:\n",
    "    return df_results.applymap(lambda x: x.encode('unicode_escape').decode('utf-8') if isinstance(x, str) else x)\n"
   ]
  },
  {
   "cell_type": "code",
   "execution_count": 4,
   "metadata": {},
   "outputs": [],
   "source": [
    "def fetch_and_insert_categories_from_website(website_name: str) -> insert_results:\n",
    "    category = data.category()\n",
    "    results = insert_results()\n",
    "    with data.database() as db:\n",
    "        website = db.query_websites(website_name)\n",
    "        print(f'Pulling categories for {website.name}')\n",
    "        parsed_html = parse_html(website.url)\n",
    "        for item in parsed_html.find_all('div', attrs={\"class\":\"related-content clearfix related-content-sm decorated channel-list\"}):\n",
    "            category.url = item.find('a')['href']\n",
    "            category.name = category.url.rsplit(\"/\")[3]\n",
    "            category.website_id = website.id\n",
    "            if check_url_new('categories', category.url) == True:\n",
    "                db.insert_category(category)\n",
    "                results.inserted += 1\n",
    "            else:\n",
    "                # <placeholder for logging>\n",
    "                results.not_inserted += 1\n",
    "    return results"
   ]
  },
  {
   "cell_type": "code",
   "execution_count": 5,
   "metadata": {
    "tags": [
     "outputPrepend"
    ]
   },
   "outputs": [],
   "source": [
    "def fetch_and_insert_blogs_from_category(category_name: str) -> insert_results:\n",
    "    blog = data.blog()\n",
    "    results = insert_results()\n",
    "    with data.database() as db:\n",
    "        category = db.query_categories(category_name)\n",
    "        print(category.url)\n",
    "        print(f'Pulling blogs for {category.name}')\n",
    "        parsed_html = parse_html(category.url)\n",
    "        #pprint(parsed_html)\n",
    "        for item in parsed_html.find_all('div', attrs={\"class\":\"author-info\"}):\n",
    "            for title_html in item.find_all('div', attrs={\"class\":\"title\"}):\n",
    "                title_html_a = title_html.find('a')\n",
    "                blog.name = title_html_a.get_text()\n",
    "                blog.name = remove_smart_quotes(blog.name)\n",
    "                blog.url = title_html_a['href']\n",
    "            for by_line_html in item.find_all('div', attrs={\"class\":\"by-line\"}):\n",
    "                blog.author = by_line_html.find('a').get_text()\n",
    "            blog.category_id = category.id\n",
    "            # if category.url == 'https://www.patheos.com/new-visions-blogs':\n",
    "            #     print(blog.name, blog.url, blog.author)\n",
    "            if check_url_new('blogs', blog.url) == True:\n",
    "                db.insert_blog(blog)\n",
    "                results.inserted += 1\n",
    "            else:\n",
    "                # <placeholder for logging>\n",
    "                results.not_inserted += 1\n",
    "    return results"
   ]
  },
  {
   "cell_type": "code",
   "execution_count": null,
   "metadata": {},
   "outputs": [],
   "source": [
    "def fetch_and_insert_posts_from_blog(blog_name: str) -> insert_results:\n",
    "    post = data.post()\n",
    "    results = insert_results()\n",
    "    with data.database() as db:\n",
    "        blog = db.query_blogs(blog_name)\n",
    "        print(blog.url)\n",
    "        print(f'Pulling blogs for {blog.name}')\n",
    "        parsed_html = parse_html(blog.url)\n",
    "        #pprint(parsed_html)\n",
    "        for item in parsed_html.find_all('div', attrs={\"class\":\"author-info\"}):\n",
    "            for title_html in item.find_all('div', attrs={\"class\":\"title\"}):\n",
    "                title_html_a = title_html.find('a')\n",
    "                post.name = title_html_a.get_text()\n",
    "                post.name = remove_smart_quotes(blog.name)\n",
    "                post.url = title_html_a['href']\n",
    "            for by_line_html in item.find_all('div', attrs={\"class\":\"by-line\"}):\n",
    "                post.author = by_line_html.find('a').get_text()\n",
    "            post.blog_id = blog.id\n",
    "            # if category.url == 'https://www.patheos.com/new-visions-blogs':\n",
    "            #     print(blog.name, blog.url, blog.author)\n",
    "            if check_url_new('posts', post.url) == True:\n",
    "                db.insert_post(post)\n",
    "                results.inserted += 1\n",
    "            else:\n",
    "                # <placeholder for logging>\n",
    "                results.not_inserted += 1\n",
    "    return results"
   ]
  },
  {
   "cell_type": "code",
   "execution_count": 6,
   "metadata": {},
   "outputs": [
    {
     "output_type": "stream",
     "name": "stdout",
     "text": "Pulling categories for Patheos Blogs\nbuddhist-blogs\ncatholic-blogs\ncontemplative-blogs\nevangelical-blogs\ngeneral-christian-blogs\nhindu-blogs\njewish-blogs\nlatter-day-saint-blogs\nmuslim-blogs\nnew-visions-blogs\nnonreligious-blogs\npagan-blogs\nprogressive-christian-blogs\nmore-voices-blogs\nsixseeds-family-blogs\npolitics-blue-blogs\npolitics-red-blogs\nentertainment-blogs\nfaith-and-work-blogs\npatheos-partner-blogs\nhttps://www.patheos.com/buddhist-blogs\nPulling blogs for buddhist-blogs\n0 5\nhttps://www.patheos.com/catholic-blogs\nPulling blogs for catholic-blogs\n0 88\nhttps://www.patheos.com/contemplative-blogs\nPulling blogs for contemplative-blogs\n0 8\nhttps://www.patheos.com/evangelical-blogs\nPulling blogs for evangelical-blogs\n0 83\nhttps://www.patheos.com/general-christian-blogs\nPulling blogs for general-christian-blogs\n0 18\nhttps://www.patheos.com/hindu-blogs\nPulling blogs for hindu-blogs\n0 4\nhttps://www.patheos.com/jewish-blogs\nPulling blogs for jewish-blogs\n0 6\nhttps://www.patheos.com/latter-day-saint-blogs\nPulling blogs for latter-day-saint-blogs\n0 17\nhttps://www.patheos.com/muslim-blogs\nPulling blogs for muslim-blogs\n0 34\nhttps://www.patheos.com/new-visions-blogs\nPulling blogs for new-visions-blogs\n0 35\nhttps://www.patheos.com/nonreligious-blogs\nPulling blogs for nonreligious-blogs\n0 65\nhttps://www.patheos.com/pagan-blogs\nPulling blogs for pagan-blogs\n0 59\nhttps://www.patheos.com/progressive-christian-blogs\nPulling blogs for progressive-christian-blogs\n0 105\nhttps://www.patheos.com/more-voices-blogs\nPulling blogs for more-voices-blogs\n0 3\nhttps://www.patheos.com/sixseeds-family-blogs\nPulling blogs for sixseeds-family-blogs\n0 24\nhttps://www.patheos.com/politics-blue-blogs\nPulling blogs for politics-blue-blogs\n0 3\nhttps://www.patheos.com/politics-red-blogs\nPulling blogs for politics-red-blogs\n0 10\nhttps://www.patheos.com/entertainment-blogs\nPulling blogs for entertainment-blogs\n0 12\nhttps://www.patheos.com/faith-and-work-blogs\nPulling blogs for faith-and-work-blogs\n0 16\nhttps://www.patheos.com/patheos-partner-blogs\nPulling blogs for patheos-partner-blogs\n0 2\n"
    }
   ],
   "source": [
    "with data.database() as db:\n",
    "    fetch_and_insert_categories_from_website('Patheos Blogs')\n",
    "    category_names = db.execute('SELECT name FROM categories')\n",
    "\n",
    "for i in category_names:\n",
    "    print(i[0])\n",
    "\n",
    "for name in category_names:\n",
    "    results = fetch_and_insert_blogs_from_category(name[0])\n",
    "    print(results.inserted, results.not_inserted)"
   ]
  },
  {
   "cell_type": "code",
   "execution_count": null,
   "metadata": {},
   "outputs": [],
   "source": []
  }
 ]
}