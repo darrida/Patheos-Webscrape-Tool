{
 "cells": [
  {
   "cell_type": "code",
   "execution_count": 20,
   "metadata": {},
   "outputs": [],
   "source": [
    "from bs4 import BeautifulSoup as BS\n",
    "import pandas as pd\n",
    "import csv\n",
    "import requests\n",
    "from tqdm import tqdm\n",
    "from pandas.io.sql import SQLTable\n",
    "import webscrape_pd_scrape_patheos as pscrape\n",
    "import sys\n",
    "from passlib.hash import pbkdf2_sha256\n",
    "try:\n",
    "    from configparser import ConfigParser\n",
    "    from configparser import SafeConfigParser\n",
    "except ImportError:\n",
    "    from ConfigParser import ConfigParser  # ver. < 3.0\n",
    "    from ConfigParser import SafeConfigParser"
   ]
  },
  {
   "cell_type": "code",
   "execution_count": 32,
   "metadata": {},
   "outputs": [],
   "source": [
    "def update_system_status_values(file, section, option, value):\n",
    "    config = ConfigParser()\n",
    "    config.read(file)\n",
    "    cfgfile = open(file, 'w')\n",
    "    if config.has_section(section) == True:\n",
    "    #try:\n",
    "        config.set(section, option, value)\n",
    "    else:\n",
    "    #except:\n",
    "        config.add_section(section)\n",
    "        config.set(section, option, value)\n",
    "    config.write(cfgfile)\n",
    "    cfgfile.close()\n",
    "    \n",
    "#update_system_status_values('patheos_blogs_info.ini', 'EVANGELICAL', 'new', '100')"
   ]
  },
  {
   "cell_type": "code",
   "execution_count": 35,
   "metadata": {},
   "outputs": [],
   "source": [
    "def exists_config_file(file, section, option):\n",
    "    config = ConfigParser()\n",
    "    config.read(file)\n",
    "    if config.has_option(section, option) == True:\n",
    "        page_number = int(config.get(section, option))\n",
    "    else:\n",
    "        page_number = 1\n",
    "    return page_number"
   ]
  },
  {
   "cell_type": "code",
   "execution_count": 23,
   "metadata": {},
   "outputs": [],
   "source": [
    "url = 'http://www.patheos.com/blogs'\n",
    "response = requests.get(url)\n",
    "soup = BS(response.content, 'html.parser')\n",
    "#soup.prettify"
   ]
  },
  {
   "cell_type": "code",
   "execution_count": 24,
   "metadata": {},
   "outputs": [],
   "source": [
    "blog_list = []\n",
    "\n",
    "for blog in soup.find_all('div', attrs={\"class\":\"related-content clearfix related-content-sm decorated channel-list\"}):\n",
    "    blog_url1 = blog.find('a')\n",
    "    blog_url2 = blog_url1['href']\n",
    "    blog_list.append(blog_url2) \n",
    "\n",
    "#for i in blog_list:\n",
    "#    print(i)"
   ]
  },
  {
   "cell_type": "code",
   "execution_count": 25,
   "metadata": {},
   "outputs": [],
   "source": [
    "blog_lists = []\n",
    "    \n",
    "for i in blog_list:\n",
    "    split_url = i.rsplit(\"/\")\n",
    "    blog_name = split_url[3]\n",
    "    blog_lists.append(blog_name)\n",
    "    \n",
    "blog_dict = {i:[] for i in blog_lists}\n",
    "#print(blog_dict)\n",
    "\n",
    "#print(blog_dict['buddhist-blogs'])"
   ]
  },
  {
   "cell_type": "code",
   "execution_count": null,
   "metadata": {},
   "outputs": [],
   "source": [
    "#for i in blog_dict:\n",
    "#    print(i.upper())\n",
    "#    for v in blog_dict[i]:\n",
    "#        print(\"    - \" + v)"
   ]
  },
  {
   "cell_type": "code",
   "execution_count": null,
   "metadata": {},
   "outputs": [],
   "source": [
    "#for i in blog_dict:\n",
    "#    print(\"https://www.patheos.com/\" + i)"
   ]
  },
  {
   "cell_type": "code",
   "execution_count": 26,
   "metadata": {},
   "outputs": [
    {
     "name": "stderr",
     "output_type": "stream",
     "text": [
      "Fetch blog urls for each category: 100%|███████████████████████████████████████████████| 20/20 [00:06<00:00,  3.99it/s]\n"
     ]
    }
   ],
   "source": [
    "blog_cat_prefix = \"https://www.patheos.com/\"\n",
    "\n",
    "while True:\n",
    "    i = 0    \n",
    "    for blog_urls in tqdm(blog_dict, desc='Fetch blog urls for each category'):\n",
    "        #print(blog_urls)\n",
    "        if blog_urls:\n",
    "            query_url = blog_cat_prefix + blog_urls\n",
    "            subsub_blog = requests.get(query_url)\n",
    "            #if subsub_blog != \"<Response [404]>\":\n",
    "            soup2 = BS(subsub_blog.content, 'html.parser')\n",
    "            for blog in soup2.find_all('div', attrs={\"class\":\"author-info\"}):\n",
    "                #print(blog)\n",
    "                for blog_url0 in blog.find_all('div', attrs={\"class\":\"title\"}):\n",
    "                    #print(blog_url0)\n",
    "                    blog_url1 = blog_url0.find('a')\n",
    "                    blog_url2 = blog_url1['href']\n",
    "                    blog_dict[blog_urls].append(blog_url2)\n",
    "                    #print(blog_url2)\n",
    "            i = i + 1\n",
    "        else:\n",
    "            continue\n",
    "    else:\n",
    "        break"
   ]
  },
  {
   "cell_type": "code",
   "execution_count": 38,
   "metadata": {},
   "outputs": [],
   "source": [
    "def blog_find_pages(blogname_list, list_name):\n",
    "    c = 0\n",
    "    t = 1\n",
    "    b = 1\n",
    "    url_list = []\n",
    "    continue_on = True\n",
    "    page_prefix = \"/page/\"\n",
    "    \n",
    "    for i in blogname_list:\n",
    "        #p = 1\n",
    "        continue_on = True\n",
    "        blog_name = i.rsplit(\"/\")\n",
    "        p = int(exists_config_file('patheos_blogs_pages.ini', list_name, blog_name[4]))\n",
    "        t = t + p\n",
    "        print(\"\\n\" + blog_name[4].upper())\n",
    "        while continue_on == True:\n",
    "            blog_page_url = i + page_prefix + str(p)\n",
    "            #print(blog_page_url)\n",
    "            url_test = requests.get(blog_page_url)\n",
    "            if url_test.status_code != 404:\n",
    "                url_list.append(blog_page_url)\n",
    "                #print(blog_page_url)\n",
    "                p = p + 1\n",
    "                t = t + 1\n",
    "                #c = c + 1\n",
    "                continue_on = True\n",
    "            else:\n",
    "                #e = e + 1\n",
    "                p = p - 1\n",
    "                continue_on = False\n",
    "            sys.stdout.write('\\r' + \"category number: \" + str(b) + \"/\" + str(len(blogname_list)) \n",
    "                             + \" | page(\" + str(p) + \") | category total: \" + str(t) + \")\")\n",
    "        b = b + 1\n",
    "        update_system_status_values('patheos_blogs_pages.ini', list_name, blog_name[4], str(p))\n",
    "    else:\n",
    "        return url_list\n",
    "\n"
   ]
  },
  {
   "cell_type": "code",
   "execution_count": 39,
   "metadata": {},
   "outputs": [
    {
     "name": "stdout",
     "output_type": "stream",
     "text": [
      "buddhist-blogs\n",
      "\n",
      "AMERICANBUDDHIST\n",
      "category number: 1/5 | page(160) | category total: 162)\n",
      "BODHISATTVAROAD\n",
      "category number: 2/5 | page(14) | category total: 177)\n",
      "MONKEYMIND\n",
      "category number: 3/5 | page(439) | category total: 617)\n",
      "NOTESFROMTHETEMPLE\n",
      "category number: 4/5 | page(5) | category total: 623)\n",
      "WILDFOXZEN\n",
      "category number: 5/5 | page(84) | category total: 708)"
     ]
    }
   ],
   "source": [
    "# For in file testing\n",
    "keep = True\n",
    "for i in blog_dict:\n",
    "    while keep == True:\n",
    "        print(i)\n",
    "        name = i\n",
    "        keep = False\n",
    "        new_list = blog_find_pages(blog_dict[i], i)"
   ]
  },
  {
   "cell_type": "code",
   "execution_count": null,
   "metadata": {},
   "outputs": [],
   "source": [
    "print(new_list)"
   ]
  },
  {
   "cell_type": "code",
   "execution_count": 11,
   "metadata": {},
   "outputs": [
    {
     "name": "stdout",
     "output_type": "stream",
     "text": [
      "buddhist-blogs 5\n",
      "catholic-blogs 79\n",
      "contemplative-blogs 9\n",
      "evangelical-blogs 79\n",
      "general-christian-blogs 16\n",
      "hindu-blogs 4\n",
      "jewish-blogs 6\n",
      "latter-day-saint-blogs 17\n",
      "muslim-blogs 34\n",
      "new-visions-blogs 34\n",
      "nonreligious-blogs 64\n",
      "pagan-blogs 53\n",
      "progressive-christian-blogs 97\n",
      "more-voices-blogs 3\n",
      "sixseeds-family-blogs 23\n",
      "politics-blue-blogs 3\n",
      "politics-red-blogs 10\n",
      "entertainment-blogs 12\n",
      "faith-and-work-blogs 16\n",
      "patheos-partner-blogs 2\n",
      "Total: 566\n"
     ]
    }
   ],
   "source": [
    "# For in file testing\n",
    "n = 0\n",
    "\n",
    "for i in blog_dict:\n",
    "    print(i, len(blog_dict[i]))\n",
    "    n = n + len(blog_dict[i])\n",
    "\n",
    "print(\"Total: \" + str(n))"
   ]
  }
 ],
 "metadata": {
  "kernelspec": {
   "display_name": "Python 3",
   "language": "python",
   "name": "python3"
  },
  "language_info": {
   "codemirror_mode": {
    "name": "ipython",
    "version": 3
   },
   "file_extension": ".py",
   "mimetype": "text/x-python",
   "name": "python",
   "nbconvert_exporter": "python",
   "pygments_lexer": "ipython3",
   "version": "3.7.1"
  }
 },
 "nbformat": 4,
 "nbformat_minor": 2
}
