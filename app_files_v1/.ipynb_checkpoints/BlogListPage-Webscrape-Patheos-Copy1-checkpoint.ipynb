{
 "cells": [
  {
   "cell_type": "code",
   "execution_count": 7,
   "metadata": {},
   "outputs": [],
   "source": [
    "from bs4 import BeautifulSoup as BS\n",
    "import pandas as pd\n",
    "import csv\n",
    "import requests\n",
    "from tqdm import tqdm\n",
    "from pandas.io.sql import SQLTable\n",
    "import webscrape_pd_scrape_patheos as pscrape\n",
    "#import numpy as np\n",
    "#import cx_Oracle\n",
    "#import parse_tns as tns\n",
    "#from sqlalchemy import types, create_engine\n",
    "#import time\n",
    "#import sys\n",
    "#import re\n",
    "#import openpyxl\n",
    "#import colorama\n",
    "#from urllib.request import urlopen, URLError"
   ]
  },
  {
   "cell_type": "raw",
   "metadata": {},
   "source": [
    "blog = \"https://www.patheos.com/blogs/keithgiles/\"\n",
    "page_prefix = \"page/\"\n",
    "\n",
    "p = 1\n",
    "url_list = []\n",
    "continue_on = True\n",
    "\n",
    "while continue_on == True:\n",
    "    blog_page_url = blog + page_prefix + str(p)\n",
    "    url_test = requests.get(blog_page_url)\n",
    "    if url_test.status_code != 404:\n",
    "        url_list.append(blog_page_url)\n",
    "        print(blog_page_url)\n",
    "        p = p + 1\n",
    "        continue_on = True\n",
    "    else:\n",
    "        continue_on = False"
   ]
  },
  {
   "cell_type": "code",
   "execution_count": 8,
   "metadata": {},
   "outputs": [],
   "source": [
    "url = 'http://www.patheos.com/blogs'\n",
    "response = requests.get(url)\n",
    "soup = BS(response.content, 'html.parser')\n",
    "#soup.prettify"
   ]
  },
  {
   "cell_type": "code",
   "execution_count": 9,
   "metadata": {},
   "outputs": [
    {
     "name": "stdout",
     "output_type": "stream",
     "text": [
      "https://www.patheos.com/buddhist-blogs\n",
      "https://www.patheos.com/catholic-blogs\n",
      "https://www.patheos.com/contemplative-blogs\n",
      "https://www.patheos.com/evangelical-blogs\n",
      "https://www.patheos.com/general-christian-blogs\n",
      "https://www.patheos.com/hindu-blogs\n",
      "https://www.patheos.com/jewish-blogs\n",
      "https://www.patheos.com/latter-day-saint-blogs\n",
      "https://www.patheos.com/muslim-blogs\n",
      "https://www.patheos.com/new-visions-blogs\n",
      "https://www.patheos.com/nonreligious-blogs\n",
      "https://www.patheos.com/pagan-blogs\n",
      "https://www.patheos.com/progressive-christian-blogs\n",
      "https://www.patheos.com/more-voices-blogs\n",
      "https://www.patheos.com/sixseeds-family-blogs\n",
      "https://www.patheos.com/politics-blue-blogs\n",
      "https://www.patheos.com/politics-red-blogs\n",
      "https://www.patheos.com/entertainment-blogs\n",
      "https://www.patheos.com/faith-and-work-blogs\n",
      "https://www.patheos.com/patheos-partner-blogs\n"
     ]
    }
   ],
   "source": [
    "blog_list = []\n",
    "\n",
    "for blog in soup.find_all('div', attrs={\"class\":\"related-content clearfix related-content-sm decorated channel-list\"}):\n",
    "    blog_url1 = blog.find('a')\n",
    "    blog_url2 = blog_url1['href']\n",
    "    blog_list.append(blog_url2) \n",
    "\n",
    "for i in blog_list:\n",
    "    print(i)"
   ]
  },
  {
   "cell_type": "code",
   "execution_count": 10,
   "metadata": {},
   "outputs": [
    {
     "name": "stdout",
     "output_type": "stream",
     "text": [
      "{'buddhist-blogs': [], 'catholic-blogs': [], 'contemplative-blogs': [], 'evangelical-blogs': [], 'general-christian-blogs': [], 'hindu-blogs': [], 'jewish-blogs': [], 'latter-day-saint-blogs': [], 'muslim-blogs': [], 'new-visions-blogs': [], 'nonreligious-blogs': [], 'pagan-blogs': [], 'progressive-christian-blogs': [], 'more-voices-blogs': [], 'sixseeds-family-blogs': [], 'politics-blue-blogs': [], 'politics-red-blogs': [], 'entertainment-blogs': [], 'faith-and-work-blogs': [], 'patheos-partner-blogs': []}\n",
      "['item']\n"
     ]
    }
   ],
   "source": [
    "blog_lists = []\n",
    "    \n",
    "for i in blog_list:\n",
    "    split_url = i.rsplit(\"/\")\n",
    "    blog_name = split_url[3]\n",
    "    blog_lists.append(blog_name)\n",
    "    \n",
    "blog_dict = {i:[] for i in blog_lists}\n",
    "print(blog_dict)\n",
    "\n",
    "this = \"item\"\n",
    "blog_dict['buddhist-blogs'].append(this)\n",
    "\n",
    "print(blog_dict['buddhist-blogs'])"
   ]
  },
  {
   "cell_type": "code",
   "execution_count": 5,
   "metadata": {},
   "outputs": [
    {
     "name": "stdout",
     "output_type": "stream",
     "text": [
      "BUDDHIST-BLOGS\n",
      "    - item\n",
      "CATHOLIC-BLOGS\n",
      "CONTEMPLATIVE-BLOGS\n",
      "EVANGELICAL-BLOGS\n",
      "GENERAL-CHRISTIAN-BLOGS\n",
      "HINDU-BLOGS\n",
      "JEWISH-BLOGS\n",
      "LATTER-DAY-SAINT-BLOGS\n",
      "MUSLIM-BLOGS\n",
      "NEW-VISIONS-BLOGS\n",
      "NONRELIGIOUS-BLOGS\n",
      "PAGAN-BLOGS\n",
      "PROGRESSIVE-CHRISTIAN-BLOGS\n",
      "MORE-VOICES-BLOGS\n",
      "SIXSEEDS-FAMILY-BLOGS\n",
      "POLITICS-BLUE-BLOGS\n",
      "POLITICS-RED-BLOGS\n",
      "ENTERTAINMENT-BLOGS\n",
      "FAITH-AND-WORK-BLOGS\n",
      "PATHEOS-PARTNER-BLOGS\n"
     ]
    }
   ],
   "source": [
    "for i in blog_dict:\n",
    "    print(i.upper())\n",
    "    for v in blog_dict[i]:\n",
    "        print(\"    - \" + v)"
   ]
  },
  {
   "cell_type": "code",
   "execution_count": 12,
   "metadata": {},
   "outputs": [
    {
     "name": "stdout",
     "output_type": "stream",
     "text": [
      "https://www.patheos.com/buddhist-blogs\n",
      "https://www.patheos.com/catholic-blogs\n",
      "https://www.patheos.com/contemplative-blogs\n",
      "https://www.patheos.com/evangelical-blogs\n",
      "https://www.patheos.com/general-christian-blogs\n",
      "https://www.patheos.com/hindu-blogs\n",
      "https://www.patheos.com/jewish-blogs\n",
      "https://www.patheos.com/latter-day-saint-blogs\n",
      "https://www.patheos.com/muslim-blogs\n",
      "https://www.patheos.com/new-visions-blogs\n",
      "https://www.patheos.com/nonreligious-blogs\n",
      "https://www.patheos.com/pagan-blogs\n",
      "https://www.patheos.com/progressive-christian-blogs\n",
      "https://www.patheos.com/more-voices-blogs\n",
      "https://www.patheos.com/sixseeds-family-blogs\n",
      "https://www.patheos.com/politics-blue-blogs\n",
      "https://www.patheos.com/politics-red-blogs\n",
      "https://www.patheos.com/entertainment-blogs\n",
      "https://www.patheos.com/faith-and-work-blogs\n",
      "https://www.patheos.com/patheos-partner-blogs\n"
     ]
    }
   ],
   "source": [
    "for i in blog_dict:\n",
    "    print(\"https://www.patheos.com/\" + i)"
   ]
  },
  {
   "cell_type": "code",
   "execution_count": 11,
   "metadata": {},
   "outputs": [
    {
     "name": "stderr",
     "output_type": "stream",
     "text": [
      "Fetch blog urls for each category: 100%|███████████████████████████████████████████████| 20/20 [00:10<00:00,  2.60it/s]\n"
     ]
    },
    {
     "data": {
      "text/plain": [
       "20"
      ]
     },
     "execution_count": 11,
     "metadata": {},
     "output_type": "execute_result"
    }
   ],
   "source": [
    "blog_cat_prefix = \"https://www.patheos.com/\"\n",
    "\n",
    "while True:\n",
    "    i = 0    \n",
    "    for blog_urls in tqdm(blog_dict, desc='Fetch blog urls for each category'):\n",
    "        #print(blog_urls)\n",
    "        if blog_urls:\n",
    "            query_url = blog_cat_prefix + blog_urls\n",
    "            subsub_blog = requests.get(query_url)\n",
    "            #if subsub_blog != \"<Response [404]>\":\n",
    "            soup2 = BS(subsub_blog.content, 'html.parser')\n",
    "            for blog in soup2.find_all('div', attrs={\"class\":\"author-info\"}):\n",
    "                #print(blog)\n",
    "                for blog_url0 in blog.find_all('div', attrs={\"class\":\"title\"}):\n",
    "                    #print(blog_url0)\n",
    "                    blog_url1 = blog_url0.find('a')\n",
    "                    blog_url2 = blog_url1['href']\n",
    "                    blog_dict[blog_urls].append(blog_url2)\n",
    "                    #print(blog_url2)\n",
    "            i = i + 1\n",
    "        else:\n",
    "            continue\n",
    "    else:\n",
    "        break\n",
    "\n",
    "#for i in pagan_blog_list:\n",
    "#    print(i)\n",
    "\n",
    "len(blog_dict.values())  \n",
    "\n",
    "#for i in blog_dict:\n",
    "#    print(i.upper())\n",
    "#    for v in blog_dict[i]:\n",
    "#        print(\"    - \" + v)"
   ]
  },
  {
   "cell_type": "code",
   "execution_count": 17,
   "metadata": {},
   "outputs": [
    {
     "name": "stdout",
     "output_type": "stream",
     "text": [
      "buddhist-blogs 6\n",
      "catholic-blogs 79\n",
      "contemplative-blogs 9\n",
      "evangelical-blogs 79\n",
      "general-christian-blogs 16\n",
      "hindu-blogs 4\n",
      "jewish-blogs 6\n",
      "latter-day-saint-blogs 17\n",
      "muslim-blogs 34\n",
      "new-visions-blogs 34\n",
      "nonreligious-blogs 64\n",
      "pagan-blogs 53\n",
      "progressive-christian-blogs 97\n",
      "more-voices-blogs 3\n",
      "sixseeds-family-blogs 23\n",
      "politics-blue-blogs 3\n",
      "politics-red-blogs 10\n",
      "entertainment-blogs 12\n",
      "faith-and-work-blogs 16\n",
      "patheos-partner-blogs 2\n",
      "567\n"
     ]
    }
   ],
   "source": [
    "n = 0\n",
    "\n",
    "for i in blog_dict:\n",
    "    print(i, len(blog_dict[i]))\n",
    "    n = n + len(blog_dict[i])\n",
    "\n",
    "print(n)\n",
    "#    for v in blog_dict[i]:\n",
    "#        print(\"    - \" + v)\n",
    "#        n = n + 1\n",
    "\n",
    "#print(n)"
   ]
  },
  {
   "cell_type": "raw",
   "metadata": {},
   "source": [
    "blog_cat_prefix = \"https://www.patheos.com/\"\n",
    "blog_lists = []\n",
    "\n",
    "while True:\n",
    "    i = 0    \n",
    "    for blog_urls in tqdm(blog_list, desc='Fetch blog urls for each category'):\n",
    "        #print(blog_urls)\n",
    "        if blog_urls: # and (i < 10):\n",
    "            #query_url = blog_cat_prefix + blog_urls\n",
    "            subsub_blog = requests.get(blog_urls)\n",
    "            #if subsub_blog != \"<Response [404]>\":\n",
    "            soup2 = BS(subsub_blog.content, 'html.parser')\n",
    "            for blog in soup2.find_all('div', attrs={\"class\":\"author-info\"}):\n",
    "                #print(blog)\n",
    "                for blog_url0 in blog.find_all('div', attrs={\"class\":\"title\"}):\n",
    "                    #print(blog_url0)\n",
    "                    blog_url1 = blog_url0.find('a')\n",
    "                    blog_url2 = blog_url1['href']\n",
    "                    blog_lists.append(blog_url2)\n",
    "                    #print(blog_url2)\n",
    "            i = i + 1\n",
    "        else:\n",
    "            continue\n",
    "    else:\n",
    "        break\n",
    "\n",
    "#for i in pagan_blog_list:\n",
    "#    print(i)\n",
    "\n",
    "len(blog_dict.values())  \n",
    "\n",
    "#for i in blog_dict:\n",
    "#    print(i.upper())\n",
    "#    for v in blog_dict[i]:\n",
    "#        print(\"    - \" + v)"
   ]
  },
  {
   "cell_type": "code",
   "execution_count": null,
   "metadata": {},
   "outputs": [],
   "source": [
    "df = pscrape.full_scrape(subblog_list, \"yes\")"
   ]
  },
  {
   "cell_type": "code",
   "execution_count": null,
   "metadata": {},
   "outputs": [],
   "source": [
    "df"
   ]
  },
  {
   "cell_type": "code",
   "execution_count": null,
   "metadata": {},
   "outputs": [],
   "source": [
    "df.to_excel('patheos_posts_content.xlsx')\n",
    "df.to_csv('patheos_posts_content.csv')"
   ]
  }
 ],
 "metadata": {
  "kernelspec": {
   "display_name": "Python 3",
   "language": "python",
   "name": "python3"
  },
  "language_info": {
   "codemirror_mode": {
    "name": "ipython",
    "version": 3
   },
   "file_extension": ".py",
   "mimetype": "text/x-python",
   "name": "python",
   "nbconvert_exporter": "python",
   "pygments_lexer": "ipython3",
   "version": "3.7.1"
  }
 },
 "nbformat": 4,
 "nbformat_minor": 2
}
