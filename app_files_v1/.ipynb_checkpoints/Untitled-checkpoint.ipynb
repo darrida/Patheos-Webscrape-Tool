{
 "cells": [
  {
   "cell_type": "code",
   "execution_count": 4,
   "metadata": {},
   "outputs": [],
   "source": [
    "import sqlalchemy"
   ]
  },
  {
   "cell_type": "code",
   "execution_count": 10,
   "metadata": {},
   "outputs": [],
   "source": [
    "'www.patheos.com/blogs/americanbuddhist/2012/04/studies-in-buddhist-ethics-4-%e2%80%93-the-1990s.html'"
   ]
  },
  {
   "cell_type": "code",
   "execution_count": 11,
   "metadata": {},
   "outputs": [
    {
     "name": "stdout",
     "output_type": "stream",
     "text": [
      "americanbuddhist/2012/04/studies-in-buddhist-ethics-4-%e2%80%93-the-1990s.html\n"
     ]
    }
   ],
   "source": [
    "print(post_url)"
   ]
  },
  {
   "cell_type": "code",
   "execution_count": 20,
   "metadata": {},
   "outputs": [
    {
     "name": "stderr",
     "output_type": "stream",
     "text": [
      "ERROR:root:message\n",
      "Traceback (most recent call last):\n",
      "  File \"<ipython-input-20-4d40bebb0b90>\", line 3, in <module>\n",
      "    1/0\n",
      "ZeroDivisionError: division by zero\n"
     ]
    }
   ],
   "source": [
    "import logging\n",
    "try:\n",
    "    1/0\n",
    "except ZeroDivisionError as e:\n",
    "    log_entry = logging.exception(\"message\")\n",
    "    with open(r'webscrape_patheos_error_log.csv','a', newline='') as fd:\n",
    "        fd.write(str(log_entry) + '\\r')"
   ]
  }
 ],
 "metadata": {
  "kernelspec": {
   "display_name": "Python 3",
   "language": "python",
   "name": "python3"
  },
  "language_info": {
   "codemirror_mode": {
    "name": "ipython",
    "version": 3
   },
   "file_extension": ".py",
   "mimetype": "text/x-python",
   "name": "python",
   "nbconvert_exporter": "python",
   "pygments_lexer": "ipython3",
   "version": "3.7.3"
  }
 },
 "nbformat": 4,
 "nbformat_minor": 2
}
