{
 "cells": [
  {
   "cell_type": "code",
   "execution_count": null,
   "metadata": {},
   "outputs": [],
   "source": [
    "from bs4 import BeautifulSoup as BS\n",
    "import pandas as pd\n",
    "import csv\n",
    "import requests\n",
    "import time\n",
    "import re\n",
    "import numpy as np\n",
    "import openpyxl\n",
    "from urllib.request import urlopen, URLError\n",
    "from tqdm import tqdm\n",
    "import colorama\n",
    "import parse_tns as tns\n",
    "from sqlalchemy import types, create_engine\n",
    "from pandas.io.sql import SQLTable\n",
    "import cx_Oracle\n",
    "import sys\n",
    "import webscrape_sql_insert_patheos as pinsert\n",
    "import webscrape_pd_scrape_patheos as pscrape\n",
    "import webscrape_compare_current_patheos as pcompare\n",
    "import webscrape_process_results_main as pprocess"
   ]
  },
  {
   "cell_type": "code",
   "execution_count": null,
   "metadata": {},
   "outputs": [],
   "source": [
    "url = 'http://www.patheos.com/blogs'\n",
    "response = requests.get(url)"
   ]
  },
  {
   "cell_type": "code",
   "execution_count": null,
   "metadata": {},
   "outputs": [],
   "source": [
    "soup = BS(response.content, 'html.parser')\n",
    "#soup.prettify"
   ]
  },
  {
   "cell_type": "code",
   "execution_count": null,
   "metadata": {},
   "outputs": [],
   "source": [
    "df_scraped_urls = pd.DataFrame(list_posts_only)\n",
    "#df_new_urls.to_csv('patheos_posts.csv')"
   ]
  },
  {
   "cell_type": "code",
   "execution_count": null,
   "metadata": {},
   "outputs": [],
   "source": [
    "df_scraped_urls"
   ]
  },
  {
   "cell_type": "code",
   "execution_count": null,
   "metadata": {},
   "outputs": [],
   "source": [
    "def main():\n",
    "    tnsnames_path = \"\"\n",
    "    server = \"PATHEOSDBAPEX\"\n",
    "    #df_scraped_urls = pd.DataFrame\n",
    "    environment = tns.parse_tnsnames(tnsnames_path, server)\n",
    "    print(environment)\n",
    "    database_user = \"no_input\" #input(\"Xnumber or Banner Username: \")\n",
    "    database_user = database_user.upper()\n",
    "    #banner_database = environment_select(input(\"Banner database: \"))\n",
    "    #environment_user = (\"Data base user: \")\n",
    "    environment_user = 'system'\n",
    "    environment_password = 'oracle' #getpass.getpass(environment_user + \" Password: \")\n",
    "    temp_list = pprocess.process_results(pcompare.access_compare_query(environment_user, environment_password, database_user, environment, df_scraped_urls))\n",
    "    temp_df = pscrape.full_scrape(temp_list, \"yes\")\n",
    "    pprocess.process_results(pinsert.access_insert_execute(environment_user, environment_password, database_user, environment, temp_df))\n",
    "    \n",
    "    return temp_df\n",
    "\n",
    "main()\n",
    "#df_test = main()\n",
    "\n",
    "#df_test"
   ]
  },
  {
   "cell_type": "code",
   "execution_count": null,
   "metadata": {},
   "outputs": [],
   "source": [
    "df_results.to_excel('patheos_posts_content.xlsx')\n",
    "df_results.to_csv('patheos_posts_content.csv')"
   ]
  },
  {
   "cell_type": "code",
   "execution_count": null,
   "metadata": {},
   "outputs": [],
   "source": [
    "for i in invalid urls:\n",
    "    print(i)"
   ]
  }
 ],
 "metadata": {
  "jupytext": {
   "formats": "ipynb,py:hydrogen"
  },
  "kernelspec": {
   "display_name": "Python 3",
   "language": "python",
   "name": "python3"
  },
  "language_info": {
   "codemirror_mode": {
    "name": "ipython",
    "version": 3
   },
   "file_extension": ".py",
   "mimetype": "text/x-python",
   "name": "python",
   "nbconvert_exporter": "python",
   "pygments_lexer": "ipython3",
   "version": "3.7.1"
  }
 },
 "nbformat": 4,
 "nbformat_minor": 2
}
