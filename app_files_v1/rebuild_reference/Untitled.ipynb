{
 "cells": [
  {
   "cell_type": "code",
   "execution_count": 4,
   "metadata": {},
   "outputs": [],
   "source": [
    "import sqlalchemy"
   ]
  },
  {
   "cell_type": "code",
   "execution_count": 10,
   "metadata": {},
   "outputs": [],
   "source": [
    "'www.patheos.com/blogs/americanbuddhist/2012/04/studies-in-buddhist-ethics-4-%e2%80%93-the-1990s.html'"
   ]
  },
  {
   "cell_type": "code",
   "execution_count": 11,
   "metadata": {},
   "outputs": [
    {
     "name": "stdout",
     "output_type": "stream",
     "text": [
      "americanbuddhist/2012/04/studies-in-buddhist-ethics-4-%e2%80%93-the-1990s.html\n"
     ]
    }
   ],
   "source": [
    "print(post_url)"
   ]
  },
  {
   "cell_type": "code",
   "execution_count": 11,
   "metadata": {},
   "outputs": [
    {
     "name": "stderr",
     "output_type": "stream",
     "text": [
      "message\n",
      "Traceback (most recent call last):\n",
      "  File \"<ipython-input-11-2cf27f4209cb>\", line 6, in <module>\n",
      "    1/0\n",
      "ZeroDivisionError: division by zero\n"
     ]
    },
    {
     "name": "stdout",
     "output_type": "stream",
     "text": [
      "None\n"
     ]
    }
   ],
   "source": [
    "import logging\n",
    "\n",
    "logger = logging.getLogger('mylogger')\n",
    "\n",
    "try:\n",
    "    1/0\n",
    "except ZeroDivisionError as e:\n",
    "    log_entry = logger.exception(\"message\")\n",
    "    with open(r'webscrape_patheos_error_log.csv','a', newline='') as fd:\n",
    "        fd.write(str(log_entry) + '\\r')\n",
    "        \n",
    "print(log_entry)"
   ]
  },
  {
   "cell_type": "code",
   "execution_count": 8,
   "metadata": {},
   "outputs": [
    {
     "ename": "ZeroDivisionError",
     "evalue": "division by zero",
     "output_type": "error",
     "traceback": [
      "\u001b[1;31m---------------------------------------------------------------------------\u001b[0m",
      "\u001b[1;31mZeroDivisionError\u001b[0m                         Traceback (most recent call last)",
      "\u001b[1;32m<ipython-input-8-07457bcc4154>\u001b[0m in \u001b[0;36m<module>\u001b[1;34m\u001b[0m\n\u001b[0;32m     15\u001b[0m \u001b[1;31m#    main()\u001b[0m\u001b[1;33m\u001b[0m\u001b[1;33m\u001b[0m\u001b[1;33m\u001b[0m\u001b[0m\n\u001b[0;32m     16\u001b[0m \u001b[1;32mif\u001b[0m \u001b[1;34m'name'\u001b[0m \u001b[1;33m==\u001b[0m \u001b[1;34m'name'\u001b[0m\u001b[1;33m:\u001b[0m\u001b[1;33m\u001b[0m\u001b[1;33m\u001b[0m\u001b[0m\n\u001b[1;32m---> 17\u001b[1;33m     \u001b[0mproblem\u001b[0m \u001b[1;33m=\u001b[0m \u001b[1;36m1\u001b[0m\u001b[1;33m/\u001b[0m\u001b[1;36m0\u001b[0m\u001b[1;33m\u001b[0m\u001b[1;33m\u001b[0m\u001b[0m\n\u001b[0m",
      "\u001b[1;31mZeroDivisionError\u001b[0m: division by zero"
     ]
    }
   ],
   "source": [
    "import logging\n",
    "import sys\n",
    "\n",
    "logger = logging.getLogger('mylogger')\n",
    "# Configure logger to write to a file...\n",
    "\n",
    "def my_handler(type, value, tb):\n",
    "    logger.exception(\"Uncaught exception: {0}\".format(str(value)))\n",
    "\n",
    "# Install exception handler\n",
    "sys.excepthook = my_handler\n",
    "\n",
    "# Run your main script here:\n",
    "#if __name__ == '__main__':\n",
    "#    main()\n",
    "if 'name' == 'name':\n",
    "    problem = 1/0"
   ]
  },
  {
   "cell_type": "code",
   "execution_count": 15,
   "metadata": {},
   "outputs": [],
   "source": [
    "from datetime import datetime\n",
    "\n",
    "try:\n",
    "    equals = 1/0\n",
    "except Exception as e:\n",
    "    ErrorLogEntry = str(datetime.now()) + ' Error when pulling posts_number for duplicate record: ' + str(repr(e)) + ' | URL: {}'.format('https://google.com')\n",
    "    with open(r'webscrape_patheos_error_log.csv','a', newline='') as fd:\n",
    "        fd.write(str(ErrorLogEntry) + '\\r')"
   ]
  }
 ],
 "metadata": {
  "kernelspec": {
   "display_name": "Python 3",
   "language": "python",
   "name": "python3"
  },
  "language_info": {
   "codemirror_mode": {
    "name": "ipython",
    "version": 3
   },
   "file_extension": ".py",
   "mimetype": "text/x-python",
   "name": "python",
   "nbconvert_exporter": "python",
   "pygments_lexer": "ipython3",
   "version": "3.7.3"
  }
 },
 "nbformat": 4,
 "nbformat_minor": 2
}
