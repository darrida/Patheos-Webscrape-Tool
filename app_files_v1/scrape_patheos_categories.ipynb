{
 "cells": [
  {
   "cell_type": "code",
   "execution_count": 1,
   "metadata": {},
   "outputs": [],
   "source": [
    "# STANDARD\n",
    "from pprint import pprint\n",
    "\n",
    "# PyPI\n",
    "from bs4 import BeautifulSoup as BS\n",
    "import requests\n",
    "from tqdm import tqdm\n",
    "\n",
    "# LOCAL\n",
    "from interface_db import db_interface_sqlite as data\n",
    "from interface_website import website_tools as tools\n",
    "from interface_website import website_patheos as patheos"
   ]
  },
  {
   "cell_type": "code",
   "execution_count": 7,
   "metadata": {},
   "outputs": [],
   "source": [
    "with data.database() as db:\n",
    "    db.create_tables()\n",
    "    db.insert_update_site_pages(1625, 149)\n",
    "    #result = db.execute(f\"SELECT number FROM site_pages WHERE site_id = 47\")\n",
    "    #print(result[0][0])\n",
    "    #for i in result:\n",
    "    #    results = patheos.fetch_and_insert_blogs(i[0])\n",
    "    #    print(f'Inserted: {results.inserted} | Not Inserted: {results.not_inserted} | Errors: {results.exceptions}')"
   ]
  },
  {
   "cell_type": "code",
   "execution_count": 4,
   "metadata": {},
   "outputs": [
    {
     "name": "stdout",
     "output_type": "stream",
     "text": [
      "Inserting Patheos Blogs - https://patheos.com/blogs\n",
      "Insert successful. Name: Patheos Blogs, URL: https://patheos.com/blogs\n",
      "Pulling categories for Patheos Blogs\n",
      "<interface_website.website_tools.insert_results object at 0x00000217B4137F40>\n",
      "https://www.patheos.com/buddhist-blogs\n",
      "buddhist-blogs Inserted: 5 | Not Inserted: 0 | Errors: 0\n",
      "https://www.patheos.com/catholic-blogs\n",
      "catholic-blogs Inserted: 89 | Not Inserted: 0 | Errors: 0\n",
      "https://www.patheos.com/contemplative-blogs\n",
      "contemplative-blogs Inserted: 8 | Not Inserted: 0 | Errors: 0\n",
      "https://www.patheos.com/evangelical-blogs\n",
      "evangelical-blogs Inserted: 84 | Not Inserted: 0 | Errors: 0\n",
      "https://www.patheos.com/general-christian-blogs\n",
      "general-christian-blogs Inserted: 18 | Not Inserted: 0 | Errors: 0\n",
      "https://www.patheos.com/hindu-blogs\n",
      "hindu-blogs Inserted: 4 | Not Inserted: 0 | Errors: 0\n",
      "https://www.patheos.com/jewish-blogs\n",
      "jewish-blogs Inserted: 6 | Not Inserted: 0 | Errors: 0\n",
      "https://www.patheos.com/latter-day-saint-blogs\n",
      "latter-day-saint-blogs Inserted: 17 | Not Inserted: 0 | Errors: 0\n",
      "https://www.patheos.com/muslim-blogs\n",
      "muslim-blogs Inserted: 34 | Not Inserted: 0 | Errors: 0\n",
      "https://www.patheos.com/new-visions-blogs\n",
      "new-visions-blogs Inserted: 32 | Not Inserted: 3 | Errors: 0\n",
      "https://www.patheos.com/nonreligious-blogs\n",
      "nonreligious-blogs Inserted: 65 | Not Inserted: 0 | Errors: 0\n",
      "https://www.patheos.com/pagan-blogs\n",
      "pagan-blogs Inserted: 59 | Not Inserted: 0 | Errors: 0\n",
      "https://www.patheos.com/progressive-christian-blogs\n",
      "progressive-christian-blogs Inserted: 105 | Not Inserted: 1 | Errors: 0\n",
      "https://www.patheos.com/more-voices-blogs\n",
      "more-voices-blogs Inserted: 2 | Not Inserted: 1 | Errors: 0\n",
      "https://www.patheos.com/sixseeds-family-blogs\n",
      "sixseeds-family-blogs Inserted: 24 | Not Inserted: 0 | Errors: 0\n",
      "https://www.patheos.com/politics-blue-blogs\n",
      "politics-blue-blogs Inserted: 3 | Not Inserted: 0 | Errors: 0\n",
      "https://www.patheos.com/politics-red-blogs\n",
      "politics-red-blogs Inserted: 10 | Not Inserted: 0 | Errors: 0\n",
      "https://www.patheos.com/entertainment-blogs\n",
      "entertainment-blogs Inserted: 12 | Not Inserted: 0 | Errors: 0\n",
      "https://www.patheos.com/faith-and-work-blogs\n",
      "faith-and-work-blogs Inserted: 16 | Not Inserted: 0 | Errors: 0\n",
      "https://www.patheos.com/patheos-partner-blogs\n",
      "patheos-partner-blogs Inserted: 0 | Not Inserted: 2 | Errors: 0\n"
     ]
    }
   ],
   "source": [
    "patheos.insert_website('Patheos Blogs', 'https://patheos.com/blogs')\n",
    "results = patheos.fetch_and_insert_categories('Patheos Blogs')\n",
    "print(results)\n",
    "with data.database() as db:\n",
    "    result = db.execute(\"SELECT name FROM categories\")\n",
    "    for i in result:\n",
    "        results = patheos.fetch_and_insert_blogs(i[0])\n",
    "        print(f'Inserted: {results.inserted} | Not Inserted: {results.not_inserted} | Errors: {results.exceptions}')"
   ]
  },
  {
   "cell_type": "raw",
   "metadata": {},
   "source": [
    "def number_of_blog_pages(blog_name: str) -> int:\n",
    "    with data.database() as db:\n",
    "        blog = db.query_blogs(blog_name)\n",
    "        base_page_url = blog.url + '/page/'\n",
    "        try:\n",
    "            result = db.execute(f\"SELECT number FROM site_pages WHERE site_id = {blog.id}\")[0][0]\n",
    "            valid_page = result if result > 1 else 1\n",
    "        except IndexError:\n",
    "            valid_page = 1\n",
    "        p = valid_page\n",
    "        search_increment_list = [100, 10, 1, 0]\n",
    "        search_list_index = 0\n",
    "        while search_increment_list[search_list_index] != 0:                            # Continue processing until the increment number = 0\n",
    "            try:\n",
    "                search_increment = search_increment_list[search_list_index]\n",
    "                url = base_page_url + str(p)\n",
    "                url_test = requests.get(url)\n",
    "                #print('search_list_index', search_list_index)\n",
    "                if url_test.status_code != 404:                                         # While request.get is successful, continue incrementing\n",
    "                    valid_page = p\n",
    "                    p += search_increment\n",
    "                else:                                                                   # When request.get gets 404 error, move to smaller increment\n",
    "                    search_list_index += 1\n",
    "                    p = (p - search_increment) + search_increment_list[search_list_index]\n",
    "                #print('search_increment', search_increment)\n",
    "                #print('code', url_test.status_code, '=>', p)\n",
    "                #print('valid_page', valid_page)\n",
    "                #print('')\n",
    "            except IndexError as e:\n",
    "                search_increment = 0\n",
    "            db.insert_update_site_pages(valid_page, blog.id)\n",
    "            sys.stdout.write('\\r' + str(valid_page))   "
   ]
  },
  {
   "cell_type": "code",
   "execution_count": 19,
   "metadata": {},
   "outputs": [
    {
     "name": "stdout",
     "output_type": "stream",
     "text": [
      "[(149, 'by Scot McKnight', 'Jesus Creed', 'https://www.patheos.com/blogs/jesuscreed', 4, '2020-04-19', 'default', '2020-04-19', 'default')]\n",
      "[(1640,)]\n"
     ]
    }
   ],
   "source": [
    "with data.database() as db:\n",
    "    result = db.execute(\"SELECT * FROM blogs WHERE url = 'https://www.patheos.com/blogs/jesuscreed'\")\n",
    "    print(result)\n",
    "    result = db.execute(f\"SELECT number FROM site_pages WHERE site_id = 149\")\n",
    "    print(result)"
   ]
  },
  {
   "cell_type": "code",
   "execution_count": 8,
   "metadata": {},
   "outputs": [
    {
     "name": "stdout",
     "output_type": "stream",
     "text": [
      "1640\n",
      "New Pages: 15\n"
     ]
    }
   ],
   "source": [
    "import sys\n",
    "\n",
    "number_of_new_pages = patheos.number_of_blog_pages('Jesus Creed')\n",
    "print(f'\\nNew Pages: {number_of_new_pages}')"
   ]
  },
  {
   "cell_type": "code",
   "execution_count": null,
   "metadata": {},
   "outputs": [],
   "source": [
    "def fetch_and_insert_posts(blog_name: str) -> tools.insert_results():\n",
    "    pass"
   ]
  }
 ],
 "metadata": {
  "file_extension": ".py",
  "kernelspec": {
   "display_name": "Python 3",
   "language": "python",
   "name": "python3"
  },
  "language_info": {
   "codemirror_mode": {
    "name": "ipython",
    "version": 3
   },
   "file_extension": ".py",
   "mimetype": "text/x-python",
   "name": "python",
   "nbconvert_exporter": "python",
   "pygments_lexer": "ipython3",
   "version": "3.8.2"
  },
  "mimetype": "text/x-python",
  "name": "python",
  "npconvert_exporter": "python",
  "pygments_lexer": "ipython3",
  "version": 3
 },
 "nbformat": 4,
 "nbformat_minor": 4
}
