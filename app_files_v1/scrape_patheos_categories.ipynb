{
 "cells": [
  {
   "cell_type": "code",
   "execution_count": 2,
   "metadata": {},
   "outputs": [],
   "source": [
    "# STANDARD\n",
    "from pprint import pprint\n",
    "\n",
    "# PyPI\n",
    "from bs4 import BeautifulSoup as BS\n",
    "import requests\n",
    "from tqdm import tqdm\n",
    "\n",
    "# LOCAL\n",
    "from interface_db import db_interface_sqlite as data\n",
    "from interface_website import website_tools as tools\n",
    "from interface_website import website_patheos as patheos"
   ]
  },
  {
   "cell_type": "code",
   "execution_count": 3,
   "metadata": {},
   "outputs": [],
   "source": [
    "with data.database() as db:\n",
    "    db.create_tables()\n",
    "    db.insert_update_site_pages(1625, 149)\n",
    "    result = db.execute(f\"SELECT number FROM site_pages WHERE site_id = 47\")\n",
    "    #print(result[0][0])\n",
    "    for i in result:\n",
    "        results = patheos.fetch_and_insert_blogs(i[0])\n",
    "        print(f'Inserted: {results.inserted} | Not Inserted: {results.not_inserted} | Errors: {results.exceptions}')"
   ]
  },
  {
   "cell_type": "code",
   "execution_count": 4,
   "metadata": {
    "collapsed": true,
    "jupyter": {
     "outputs_hidden": true
    }
   },
   "outputs": [
    {
     "name": "stdout",
     "output_type": "stream",
     "text": [
      "Inserting Patheos Blogs - https://patheos.com/blogs\n",
      "Insert successful. Name: Patheos Blogs, URL: https://patheos.com/blogs\n",
      "Pulling categories for Patheos Blogs\n",
      "buddhist-blogs https://www.patheos.com/buddhist-blogs\n",
      "Inserted: 5 | Not Inserted: 0 | Errors: 0\n",
      "catholic-blogs https://www.patheos.com/catholic-blogs\n",
      "Inserted: 89 | Not Inserted: 0 | Errors: 0\n",
      "contemplative-blogs https://www.patheos.com/contemplative-blogs\n",
      "Inserted: 8 | Not Inserted: 0 | Errors: 0\n",
      "evangelical-blogs https://www.patheos.com/evangelical-blogs\n",
      "Inserted: 84 | Not Inserted: 0 | Errors: 0\n",
      "general-christian-blogs https://www.patheos.com/general-christian-blogs\n",
      "Inserted: 18 | Not Inserted: 0 | Errors: 0\n",
      "hindu-blogs https://www.patheos.com/hindu-blogs\n",
      "Inserted: 4 | Not Inserted: 0 | Errors: 0\n",
      "jewish-blogs https://www.patheos.com/jewish-blogs\n",
      "Inserted: 6 | Not Inserted: 0 | Errors: 0\n",
      "latter-day-saint-blogs https://www.patheos.com/latter-day-saint-blogs\n",
      "Inserted: 17 | Not Inserted: 0 | Errors: 0\n",
      "muslim-blogs https://www.patheos.com/muslim-blogs\n",
      "Inserted: 34 | Not Inserted: 0 | Errors: 0\n",
      "new-visions-blogs https://www.patheos.com/new-visions-blogs\n",
      "Inserted: 32 | Not Inserted: 3 | Errors: 0\n",
      "nonreligious-blogs https://www.patheos.com/nonreligious-blogs\n",
      "Inserted: 65 | Not Inserted: 0 | Errors: 0\n",
      "pagan-blogs https://www.patheos.com/pagan-blogs\n",
      "Inserted: 59 | Not Inserted: 0 | Errors: 0\n",
      "progressive-christian-blogs https://www.patheos.com/progressive-christian-blogs\n",
      "Inserted: 105 | Not Inserted: 1 | Errors: 0\n",
      "more-voices-blogs https://www.patheos.com/more-voices-blogs\n",
      "Inserted: 2 | Not Inserted: 1 | Errors: 0\n",
      "sixseeds-family-blogs https://www.patheos.com/sixseeds-family-blogs\n",
      "Inserted: 24 | Not Inserted: 0 | Errors: 0\n",
      "politics-blue-blogs https://www.patheos.com/politics-blue-blogs\n",
      "Inserted: 3 | Not Inserted: 0 | Errors: 0\n",
      "politics-red-blogs https://www.patheos.com/politics-red-blogs\n",
      "Inserted: 10 | Not Inserted: 0 | Errors: 0\n",
      "entertainment-blogs https://www.patheos.com/entertainment-blogs\n",
      "Inserted: 12 | Not Inserted: 0 | Errors: 0\n",
      "faith-and-work-blogs https://www.patheos.com/faith-and-work-blogs\n",
      "Inserted: 16 | Not Inserted: 0 | Errors: 0\n",
      "patheos-partner-blogs https://www.patheos.com/patheos-partner-blogs\n",
      "Inserted: 0 | Not Inserted: 2 | Errors: 0\n"
     ]
    }
   ],
   "source": [
    "patheos.insert_website('Patheos Blogs', 'https://patheos.com/blogs')\n",
    "results = patheos.fetch_and_insert_categories('Patheos Blogs')\n",
    "with data.database() as db:\n",
    "    result = db.execute(\"SELECT name FROM categories\")\n",
    "    for i in result:\n",
    "        results = patheos.fetch_and_insert_blogs(i[0])\n",
    "        print(f'Inserted: {results.inserted} | Not Inserted: {results.not_inserted} | Errors: {results.exceptions}')"
   ]
  },
  {
   "cell_type": "code",
   "execution_count": 5,
   "metadata": {},
   "outputs": [
    {
     "name": "stdout",
     "output_type": "stream",
     "text": [
      "[(149, 'by Scot McKnight', 'Jesus Creed', 'https://www.patheos.com/blogs/jesuscreed', 4, '2020-04-21', 'default', '2020-04-21', 'default')]\n",
      "[(1625,)]\n"
     ]
    }
   ],
   "source": [
    "with data.database() as db:\n",
    "    result = db.execute(\"SELECT * FROM blogs WHERE url = 'https://www.patheos.com/blogs/jesuscreed'\")\n",
    "    print(result)\n",
    "    result = db.execute(f\"SELECT number FROM site_pages WHERE site_id = 149\")\n",
    "    print(result)"
   ]
  },
  {
   "cell_type": "code",
   "execution_count": 6,
   "metadata": {},
   "outputs": [
    {
     "name": "stdout",
     "output_type": "stream",
     "text": [
      "1640\n",
      "New Pages: 15\n"
     ]
    }
   ],
   "source": [
    "import sys\n",
    "\n",
    "number_of_new_pages = patheos.number_of_blog_pages('Jesus Creed')\n",
    "print(f'\\nNew Pages: {number_of_new_pages}')"
   ]
  },
  {
   "cell_type": "code",
   "execution_count": null,
   "metadata": {},
   "outputs": [
    {
     "name": "stdout",
     "output_type": "stream",
     "text": [
      "149\n",
      "posts 1597\n",
      "divided 159\n",
      "BLOG: Jesus Creed | PAGE: 217 | TOTAL PROCESSED: 583 | INSERTED: 566 | NOT INSERTED: 17"
     ]
    }
   ],
   "source": [
    "import sys\n",
    "\n",
    "results = tools.insert_results()\n",
    "\n",
    "with data.database() as db:\n",
    "    blog = db.query_blogs('Jesus Creed')\n",
    "    print(blog.id)\n",
    "resume_page = patheos.find_page_resume_scrape(blog.id)\n",
    "\n",
    "page_number = resume_page\n",
    "total = 0\n",
    "continue_on = True\n",
    "while continue_on == True:\n",
    "    base_url = 'https://www.patheos.com/blogs/jesuscreed' + '/page/' + str(page_number)\n",
    "    results_l = patheos.scrape_posts_on_page(base_url)\n",
    "    #if results_l != 404:\n",
    "    for i in results_l:\n",
    "        post = data.post(i, 149)\n",
    "        post = patheos.scrape_post(post, 'no')\n",
    "        if post.title == None:\n",
    "            print('no title')\n",
    "        #posts_dict[post.url] = post\n",
    "        if tools.check_url_new('posts', post.url) == True:\n",
    "            with data.database() as db:\n",
    "                # print('\\n', post.url)\n",
    "                db.insert_post(post)\n",
    "                db.commit()\n",
    "                results.inserted += 1\n",
    "        else:\n",
    "            # <placeholder for logging>\n",
    "            results.not_inserted += 1\n",
    "        total += 1\n",
    "        sys.stdout.write('\\r' 'BLOG: ' + blog.name + ' | PAGE: ' + str(page_number) + ' | TOTAL PROCESSED: ' + str(total) \n",
    "                                                            + ' | INSERTED: ' + str(results.inserted)\n",
    "                                                            + ' | NOT INSERTED: ' + str(results.not_inserted))\n",
    "    #else:\n",
    "    #    continue_on = False\n",
    "    page_number += 1\n",
    "    sys.stdout.write('\\r' 'BLOG: ' + blog.name + ' | PAGE: ' + str(page_number) + ' | TOTAL PROCESSED: ' + str(total) \n",
    "                                                        + ' | INSERTED: ' + str(results.inserted)\n",
    "                                                        + ' | NOT INSERTED: ' + str(results.not_inserted))"
   ]
  },
  {
   "cell_type": "code",
   "execution_count": null,
   "metadata": {},
   "outputs": [],
   "source": []
  }
 ],
 "metadata": {
  "file_extension": ".py",
  "kernelspec": {
   "display_name": "Python 3",
   "language": "python",
   "name": "python3"
  },
  "language_info": {
   "codemirror_mode": {
    "name": "ipython",
    "version": 3
   },
   "file_extension": ".py",
   "mimetype": "text/x-python",
   "name": "python",
   "nbconvert_exporter": "python",
   "pygments_lexer": "ipython3",
   "version": "3.8.2"
  },
  "mimetype": "text/x-python",
  "name": "python",
  "npconvert_exporter": "python",
  "pygments_lexer": "ipython3",
  "version": 3
 },
 "nbformat": 4,
 "nbformat_minor": 4
}
