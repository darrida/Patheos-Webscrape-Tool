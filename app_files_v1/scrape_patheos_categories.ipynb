{
 "cells": [
  {
   "cell_type": "code",
   "execution_count": 2,
   "metadata": {},
   "outputs": [],
   "source": [
    "# STANDARD\n",
    "from pprint import pprint\n",
    "\n",
    "# PyPI\n",
    "from bs4 import BeautifulSoup as BS\n",
    "import requests\n",
    "from tqdm import tqdm\n",
    "\n",
    "# LOCAL\n",
    "from interface_db import db_interface_sqlite as data\n",
    "from interface_website import website_tools as tools\n",
    "from interface_website import website_patheos as patheos"
   ]
  },
  {
   "cell_type": "code",
   "execution_count": 2,
   "metadata": {},
   "outputs": [],
   "source": [
    "with data.database() as db:\n",
    "    db.create_tables()\n",
    "    db.insert_update_site_pages(0, 149)\n",
    "    result = db.execute(f\"SELECT number FROM site_pages WHERE site_id = 47\")\n",
    "    #print(result[0][0])\n",
    "    for i in result:\n",
    "        results = patheos.fetch_and_insert_blogs(i[0])\n",
    "        print(f'Inserted: {results.inserted} | Not Inserted: {results.not_inserted} | Errors: {results.exceptions}')"
   ]
  },
  {
   "cell_type": "code",
   "execution_count": 3,
   "metadata": {},
   "outputs": [
    {
     "name": "stdout",
     "output_type": "stream",
     "text": [
      "Inserting Patheos Blogs - https://patheos.com/blogs\n",
      "Not inserted. If exists, then https://patheos.com/blogs is already present, named Patheos Blogs.\n",
      "Pulling categories for Patheos Blogs\n",
      "Inserted: 5 | Not Inserted: 0 | Errors: 0\n",
      "Inserted: 89 | Not Inserted: 0 | Errors: 0\n",
      "Inserted: 8 | Not Inserted: 0 | Errors: 0\n",
      "Inserted: 84 | Not Inserted: 0 | Errors: 0\n",
      "Inserted: 18 | Not Inserted: 0 | Errors: 0\n",
      "Inserted: 4 | Not Inserted: 0 | Errors: 0\n",
      "Inserted: 6 | Not Inserted: 0 | Errors: 0\n",
      "Inserted: 17 | Not Inserted: 0 | Errors: 0\n",
      "Inserted: 34 | Not Inserted: 0 | Errors: 0\n",
      "Inserted: 32 | Not Inserted: 3 | Errors: 0\n",
      "Inserted: 65 | Not Inserted: 0 | Errors: 0\n",
      "Inserted: 59 | Not Inserted: 0 | Errors: 0\n",
      "Inserted: 105 | Not Inserted: 1 | Errors: 0\n",
      "Inserted: 2 | Not Inserted: 1 | Errors: 0\n",
      "Inserted: 24 | Not Inserted: 0 | Errors: 0\n",
      "Inserted: 3 | Not Inserted: 0 | Errors: 0\n",
      "Inserted: 10 | Not Inserted: 0 | Errors: 0\n",
      "Inserted: 12 | Not Inserted: 0 | Errors: 0\n",
      "Inserted: 16 | Not Inserted: 0 | Errors: 0\n",
      "Inserted: 0 | Not Inserted: 2 | Errors: 0\n"
     ]
    }
   ],
   "source": [
    "patheos.insert_website('Patheos Blogs', 'https://patheos.com/blogs')\n",
    "results = patheos.fetch_and_insert_categories('Patheos Blogs', 1)\n",
    "with data.database() as db:\n",
    "    result = db.execute(\"SELECT name FROM categories\")\n",
    "    for i in result:\n",
    "        results = patheos.fetch_and_insert_blogs(i[0])\n",
    "        print(f'Inserted: {results.inserted} | Not Inserted: {results.not_inserted} | Errors: {results.exceptions}')"
   ]
  },
  {
   "cell_type": "raw",
   "metadata": {},
   "source": [
    "with data.database() as db:\n",
    "    result = db.execute(\"SELECT * FROM blogs WHERE url = 'https://www.patheos.com/blogs/jesuscreed'\")\n",
    "    print(result)\n",
    "    result = db.execute(f\"SELECT number FROM site_pages WHERE site_id = 149\")\n",
    "    print(result)"
   ]
  },
  {
   "cell_type": "code",
   "execution_count": 5,
   "metadata": {},
   "outputs": [
    {
     "name": "stdout",
     "output_type": "stream",
     "text": [
      "1640\n",
      "New Pages: 1639\n"
     ]
    }
   ],
   "source": [
    "import sys\n",
    "\n",
    "number_of_new_pages = patheos.number_of_blog_pages('Jesus Creed')\n",
    "print(f'\\nNew Pages: {number_of_new_pages}')"
   ]
  },
  {
   "cell_type": "code",
   "execution_count": 3,
   "metadata": {},
   "outputs": [],
   "source": [
    "import sys\n",
    "import time\n",
    "import datetime\n",
    "\n",
    "results = tools.insert_results()\n",
    "\n",
    "\n",
    "# PLACEHOLDER\n",
    "def scrape_blog_initialize(website_id):\n",
    "    with data.database() as db:\n",
    "        website = db.query_websites(website_id=website_id)\n",
    "    \n",
    "\n",
    "# PLACEHOLDER\n",
    "def script_category_initialize(category_id):\n",
    "    with data.database() as db:\n",
    "        category = db.query_categories(category_id=category_id)\n",
    "        blog_list = db.execute(f\"\"\"SELECT id FROM categories WHERE category_id = {category.id}\"\"\")\n",
    "    scrape_blog_initialize(blog_id=blog.id)\n",
    "\n",
    "        \n",
    "def scrape_blog_initialize(blog_id):\n",
    "    with data.database() as db:\n",
    "        blog = db.query_blogs(blog_id=blog_id)\n",
    "        total_blogs = db.execute(f\"\"\"SELECT COUNT(*) FROM blogs WHERE category_id = {blog.category_id}\"\"\")[0][0]\n",
    "    total_pages = patheos.number_of_blog_pages(blog_id=blog.id)\n",
    "    resume_page = patheos.find_page_resume_scrape(blog.id)\n",
    "    \n",
    "    page_number = resume_page\n",
    "    total = 0\n",
    "    continue_on = True\n",
    "    while continue_on == True:\n",
    "        base_url = blog.url + '/page/' + str(page_number)\n",
    "        #print(base_url)\n",
    "        results_l = patheos.scrape_posts_on_page(base_url)\n",
    "        if results_l != 404:\n",
    "            for i in results_l:\n",
    "                post = data.post(i, blog.id)\n",
    "                post = patheos.scrape_post(post, 'no')\n",
    "                if post.title == None:\n",
    "                    print('no title')\n",
    "                if tools.check_url_new('posts', post.url) == True:\n",
    "                    with data.database() as db:\n",
    "                        db.insert_post(post)\n",
    "                        db.commit()\n",
    "                        results.inserted += 1\n",
    "                else:\n",
    "                    # <placeholder for logging>\n",
    "                    results.not_inserted += 1\n",
    "                total += 1\n",
    "                sys.stdout.write('\\r' + 'BLOG: (' + str(blog.id) + '/' + str(total_blogs) + ') '  + blog.name \n",
    "                                      + ' | PAGE: ' + str(page_number) + '/' + str(total_pages) \n",
    "                                      + ' | TOTAL PROCESSED: ' + str(total) \n",
    "                                      + ' | INSERTED: ' + str(results.inserted)\n",
    "                                      + ' | NOT INSERTED: ' + str(results.not_inserted))\n",
    "        else:\n",
    "            continue_on = False\n",
    "        page_number += 1\n",
    "        sys.stdout.write('\\r' + 'BLOG: (' + str(blog.id) + '/' + str(total_blogs) + ') '  + blog.name \n",
    "                              + ' | PAGE: ' + str(page_number) + '/' + str(total_pages) \n",
    "                              + ' | TOTAL PROCESSED: ' + str(total) \n",
    "                              + ' | INSERTED: ' + str(results.inserted)\n",
    "                              + ' | NOT INSERTED: ' + str(results.not_inserted))\n",
    "    with data.database() as db:\n",
    "        db.update_date_blog(blog)"
   ]
  },
  {
   "cell_type": "code",
   "execution_count": 4,
   "metadata": {
    "scrolled": true
   },
   "outputs": [
    {
     "name": "stdout",
     "output_type": "stream",
     "text": [
      "1 buddhist-blogs\n",
      "BLOG: (5/5) Wild Fox Zen | PAGE: 2/85 | TOTAL PROCESSED: 25 | INSERTED: 974 | NOT INSERTED: 34RTED: 24"
     ]
    },
    {
     "ename": "AttributeError",
     "evalue": "'NoneType' object has no attribute 'text'",
     "output_type": "error",
     "traceback": [
      "\u001b[1;31m---------------------------------------------------------------------------\u001b[0m",
      "\u001b[1;31mAttributeError\u001b[0m                            Traceback (most recent call last)",
      "\u001b[1;32m<ipython-input-4-c53d8c78ad31>\u001b[0m in \u001b[0;36m<module>\u001b[1;34m\u001b[0m\n\u001b[0;32m     12\u001b[0m             \u001b[1;32mfor\u001b[0m \u001b[0mblog_id\u001b[0m \u001b[1;32min\u001b[0m \u001b[0mlist_blogs\u001b[0m\u001b[1;33m:\u001b[0m\u001b[1;33m\u001b[0m\u001b[1;33m\u001b[0m\u001b[0m\n\u001b[0;32m     13\u001b[0m                 \u001b[0mblog\u001b[0m \u001b[1;33m=\u001b[0m \u001b[0mdb\u001b[0m\u001b[1;33m.\u001b[0m\u001b[0mquery_blogs\u001b[0m\u001b[1;33m(\u001b[0m\u001b[0mblog_id\u001b[0m\u001b[1;33m=\u001b[0m\u001b[0mblog_id\u001b[0m\u001b[1;33m[\u001b[0m\u001b[1;36m0\u001b[0m\u001b[1;33m]\u001b[0m\u001b[1;33m)\u001b[0m\u001b[1;33m\u001b[0m\u001b[1;33m\u001b[0m\u001b[0m\n\u001b[1;32m---> 14\u001b[1;33m                 \u001b[0mscrape_blog_initialize\u001b[0m\u001b[1;33m(\u001b[0m\u001b[0mblog\u001b[0m\u001b[1;33m.\u001b[0m\u001b[0mid\u001b[0m\u001b[1;33m)\u001b[0m\u001b[1;33m\u001b[0m\u001b[1;33m\u001b[0m\u001b[0m\n\u001b[0m",
      "\u001b[1;32m<ipython-input-3-e1eec55a2640>\u001b[0m in \u001b[0;36mscrape_blog_initialize\u001b[1;34m(blog_id)\u001b[0m\n\u001b[0;32m     37\u001b[0m             \u001b[1;32mfor\u001b[0m \u001b[0mi\u001b[0m \u001b[1;32min\u001b[0m \u001b[0mresults_l\u001b[0m\u001b[1;33m:\u001b[0m\u001b[1;33m\u001b[0m\u001b[1;33m\u001b[0m\u001b[0m\n\u001b[0;32m     38\u001b[0m                 \u001b[0mpost\u001b[0m \u001b[1;33m=\u001b[0m \u001b[0mdata\u001b[0m\u001b[1;33m.\u001b[0m\u001b[0mpost\u001b[0m\u001b[1;33m(\u001b[0m\u001b[0mi\u001b[0m\u001b[1;33m,\u001b[0m \u001b[0mblog\u001b[0m\u001b[1;33m.\u001b[0m\u001b[0mid\u001b[0m\u001b[1;33m)\u001b[0m\u001b[1;33m\u001b[0m\u001b[1;33m\u001b[0m\u001b[0m\n\u001b[1;32m---> 39\u001b[1;33m                 \u001b[0mpost\u001b[0m \u001b[1;33m=\u001b[0m \u001b[0mpatheos\u001b[0m\u001b[1;33m.\u001b[0m\u001b[0mscrape_post\u001b[0m\u001b[1;33m(\u001b[0m\u001b[0mpost\u001b[0m\u001b[1;33m,\u001b[0m \u001b[1;34m'no'\u001b[0m\u001b[1;33m)\u001b[0m\u001b[1;33m\u001b[0m\u001b[1;33m\u001b[0m\u001b[0m\n\u001b[0m\u001b[0;32m     40\u001b[0m                 \u001b[1;32mif\u001b[0m \u001b[0mpost\u001b[0m\u001b[1;33m.\u001b[0m\u001b[0mtitle\u001b[0m \u001b[1;33m==\u001b[0m \u001b[1;32mNone\u001b[0m\u001b[1;33m:\u001b[0m\u001b[1;33m\u001b[0m\u001b[1;33m\u001b[0m\u001b[0m\n\u001b[0;32m     41\u001b[0m                     \u001b[0mprint\u001b[0m\u001b[1;33m(\u001b[0m\u001b[1;34m'no title'\u001b[0m\u001b[1;33m)\u001b[0m\u001b[1;33m\u001b[0m\u001b[1;33m\u001b[0m\u001b[0m\n",
      "\u001b[1;32m~\\Documents\\GitHub\\Patheos-Webscrape-Tool\\app_files_v1\\interface_website\\website_patheos.py\u001b[0m in \u001b[0;36mscrape_post\u001b[1;34m(post, unicode_escape_yes_no)\u001b[0m\n\u001b[0;32m    136\u001b[0m         \u001b[0mpost\u001b[0m\u001b[1;33m.\u001b[0m\u001b[0mtitle\u001b[0m \u001b[1;33m=\u001b[0m \u001b[0mparsed_html\u001b[0m\u001b[1;33m.\u001b[0m\u001b[0mfind\u001b[0m\u001b[1;33m(\u001b[0m\u001b[1;34m\"h1\"\u001b[0m\u001b[1;33m,\u001b[0m \u001b[1;33m{\u001b[0m\u001b[1;34m\"class\"\u001b[0m \u001b[1;33m:\u001b[0m \u001b[1;34m\"entry-title\"\u001b[0m\u001b[1;33m}\u001b[0m\u001b[1;33m)\u001b[0m\u001b[1;33m.\u001b[0m\u001b[0mtext\u001b[0m\u001b[1;33m\u001b[0m\u001b[1;33m\u001b[0m\u001b[0m\n\u001b[0;32m    137\u001b[0m         \u001b[1;32mfor\u001b[0m \u001b[0mg_basic\u001b[0m \u001b[1;32min\u001b[0m \u001b[0mparsed_html\u001b[0m\u001b[1;33m.\u001b[0m\u001b[0mfind_all\u001b[0m\u001b[1;33m(\u001b[0m\u001b[1;34m\"div\"\u001b[0m\u001b[1;33m,\u001b[0m \u001b[1;33m{\u001b[0m\u001b[1;34m\"class\"\u001b[0m\u001b[1;33m:\u001b[0m \u001b[1;34m\"main-post\"\u001b[0m\u001b[1;33m}\u001b[0m\u001b[1;33m)\u001b[0m\u001b[1;33m:\u001b[0m\u001b[1;33m\u001b[0m\u001b[1;33m\u001b[0m\u001b[0m\n\u001b[1;32m--> 138\u001b[1;33m             \u001b[0mpost\u001b[0m\u001b[1;33m.\u001b[0m\u001b[0mauthor\u001b[0m \u001b[1;33m=\u001b[0m \u001b[0mg_basic\u001b[0m\u001b[1;33m.\u001b[0m\u001b[0mfind\u001b[0m\u001b[1;33m(\u001b[0m\u001b[1;34m\"span\"\u001b[0m\u001b[1;33m,\u001b[0m \u001b[1;33m{\u001b[0m\u001b[1;34m\"itemprop\"\u001b[0m\u001b[1;33m:\u001b[0m \u001b[1;34m\"author\"\u001b[0m\u001b[1;33m}\u001b[0m\u001b[1;33m)\u001b[0m\u001b[1;33m.\u001b[0m\u001b[0mtext\u001b[0m\u001b[1;33m\u001b[0m\u001b[1;33m\u001b[0m\u001b[0m\n\u001b[0m\u001b[0;32m    139\u001b[0m             \u001b[0mpost\u001b[0m\u001b[1;33m.\u001b[0m\u001b[0mdate\u001b[0m \u001b[1;33m=\u001b[0m \u001b[0mg_basic\u001b[0m\u001b[1;33m.\u001b[0m\u001b[0mfind\u001b[0m\u001b[1;33m(\u001b[0m\u001b[1;34m\"span\"\u001b[0m\u001b[1;33m,\u001b[0m \u001b[1;33m{\u001b[0m\u001b[1;34m\"itemprop\"\u001b[0m\u001b[1;33m:\u001b[0m \u001b[1;34m\"datePublished dateModified\"\u001b[0m\u001b[1;33m}\u001b[0m\u001b[1;33m)\u001b[0m\u001b[1;33m.\u001b[0m\u001b[0mtext\u001b[0m\u001b[1;33m\u001b[0m\u001b[1;33m\u001b[0m\u001b[0m\n\u001b[0;32m    140\u001b[0m         \u001b[0mpost\u001b[0m\u001b[1;33m.\u001b[0m\u001b[0mcontent\u001b[0m \u001b[1;33m=\u001b[0m \u001b[0mparsed_html\u001b[0m\u001b[1;33m.\u001b[0m\u001b[0mfind\u001b[0m\u001b[1;33m(\u001b[0m\u001b[1;34m\"div\"\u001b[0m\u001b[1;33m,\u001b[0m \u001b[1;33m{\u001b[0m\u001b[1;34m\"class\"\u001b[0m\u001b[1;33m:\u001b[0m \u001b[1;34m\"story-block\"\u001b[0m\u001b[1;33m}\u001b[0m\u001b[1;33m)\u001b[0m\u001b[1;33m.\u001b[0m\u001b[0mtext\u001b[0m\u001b[1;33m\u001b[0m\u001b[1;33m\u001b[0m\u001b[0m\n",
      "\u001b[1;31mAttributeError\u001b[0m: 'NoneType' object has no attribute 'text'"
     ]
    }
   ],
   "source": [
    "with data.database() as db:\n",
    "    list_websites = db.execute(\"\"\"SELECT id FROM websites\"\"\")[0]\n",
    "    #print(list_websites)\n",
    "    for website_id in list_websites:\n",
    "        website = db.query_websites(website_id=website_id)\n",
    "        list_categories = db.execute(f\"\"\"SELECT id FROM categories WHERE website_id = {website.id}\"\"\")\n",
    "        #print(list_categories)\n",
    "        for category_id in list_categories:\n",
    "            category = db.query_categories(category_id=category_id[0])\n",
    "            print(category.id, category.name)\n",
    "            list_blogs = db.execute(f\"\"\"SELECT id, name FROM blogs WHERE category_id={category.id} ORDER BY last_date\"\"\")\n",
    "            for blog_id in list_blogs:\n",
    "                blog = db.query_blogs(blog_id=blog_id[0])\n",
    "                scrape_blog_initialize(blog.id)    "
   ]
  },
  {
   "cell_type": "code",
   "execution_count": null,
   "metadata": {},
   "outputs": [],
   "source": []
  }
 ],
 "metadata": {
  "file_extension": ".py",
  "kernelspec": {
   "display_name": "Python 3",
   "language": "python",
   "name": "python3"
  },
  "language_info": {
   "codemirror_mode": {
    "name": "ipython",
    "version": 3
   },
   "file_extension": ".py",
   "mimetype": "text/x-python",
   "name": "python",
   "nbconvert_exporter": "python",
   "pygments_lexer": "ipython3",
   "version": "3.8.2"
  },
  "mimetype": "text/x-python",
  "name": "python",
  "npconvert_exporter": "python",
  "pygments_lexer": "ipython3",
  "version": 3
 },
 "nbformat": 4,
 "nbformat_minor": 4
}
