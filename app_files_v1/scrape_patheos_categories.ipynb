{
 "cells": [
  {
   "cell_type": "code",
   "execution_count": 1,
   "metadata": {},
   "outputs": [],
   "source": [
    "# STANDARD\n",
    "from pprint import pprint\n",
    "\n",
    "# PyPI\n",
    "from bs4 import BeautifulSoup as BS\n",
    "import requests\n",
    "from tqdm import tqdm\n",
    "\n",
    "# LOCAL\n",
    "from interface_db import db_interface_sqlite as data\n",
    "from interface_website import website_tools as tools\n",
    "from interface_website import website_patheos as patheos"
   ]
  },
  {
   "cell_type": "code",
   "execution_count": 2,
   "metadata": {},
   "outputs": [],
   "source": [
    "with data.database() as db:\n",
    "    db.create_tables()\n",
    "    db.insert_update_site_pages(1625, 149)\n",
    "    #result = db.execute(f\"SELECT number FROM site_pages WHERE site_id = 47\")\n",
    "    #print(result[0][0])\n",
    "    #for i in result:\n",
    "    #    results = patheos.fetch_and_insert_blogs(i[0])\n",
    "    #    print(f'Inserted: {results.inserted} | Not Inserted: {results.not_inserted} | Errors: {results.exceptions}')"
   ]
  },
  {
   "cell_type": "code",
   "execution_count": 3,
   "metadata": {},
   "outputs": [
    {
     "name": "stdout",
     "output_type": "stream",
     "text": [
      "Inserting Patheos Blogs - https://patheos.com/blogs\n",
      "Insert successful. Name: Patheos Blogs, URL: https://patheos.com/blogs\n",
      "Pulling categories for Patheos Blogs\n",
      "<interface_website.website_tools.insert_results object at 0x000001E4765B7DC0>\n",
      "https://www.patheos.com/buddhist-blogs\n",
      "buddhist-blogs Inserted: 5 | Not Inserted: 0 | Errors: 0\n",
      "https://www.patheos.com/catholic-blogs\n",
      "catholic-blogs Inserted: 89 | Not Inserted: 0 | Errors: 0\n",
      "https://www.patheos.com/contemplative-blogs\n",
      "contemplative-blogs Inserted: 8 | Not Inserted: 0 | Errors: 0\n",
      "https://www.patheos.com/evangelical-blogs\n",
      "evangelical-blogs Inserted: 84 | Not Inserted: 0 | Errors: 0\n",
      "https://www.patheos.com/general-christian-blogs\n",
      "general-christian-blogs Inserted: 18 | Not Inserted: 0 | Errors: 0\n",
      "https://www.patheos.com/hindu-blogs\n",
      "hindu-blogs Inserted: 4 | Not Inserted: 0 | Errors: 0\n",
      "https://www.patheos.com/jewish-blogs\n",
      "jewish-blogs Inserted: 6 | Not Inserted: 0 | Errors: 0\n",
      "https://www.patheos.com/latter-day-saint-blogs\n",
      "latter-day-saint-blogs Inserted: 17 | Not Inserted: 0 | Errors: 0\n",
      "https://www.patheos.com/muslim-blogs\n",
      "muslim-blogs Inserted: 34 | Not Inserted: 0 | Errors: 0\n",
      "https://www.patheos.com/new-visions-blogs\n",
      "new-visions-blogs Inserted: 32 | Not Inserted: 3 | Errors: 0\n",
      "https://www.patheos.com/nonreligious-blogs\n",
      "nonreligious-blogs Inserted: 65 | Not Inserted: 0 | Errors: 0\n",
      "https://www.patheos.com/pagan-blogs\n",
      "pagan-blogs Inserted: 59 | Not Inserted: 0 | Errors: 0\n",
      "https://www.patheos.com/progressive-christian-blogs\n",
      "progressive-christian-blogs Inserted: 105 | Not Inserted: 1 | Errors: 0\n",
      "https://www.patheos.com/more-voices-blogs\n",
      "more-voices-blogs Inserted: 2 | Not Inserted: 1 | Errors: 0\n",
      "https://www.patheos.com/sixseeds-family-blogs\n",
      "sixseeds-family-blogs Inserted: 24 | Not Inserted: 0 | Errors: 0\n",
      "https://www.patheos.com/politics-blue-blogs\n",
      "politics-blue-blogs Inserted: 3 | Not Inserted: 0 | Errors: 0\n",
      "https://www.patheos.com/politics-red-blogs\n",
      "politics-red-blogs Inserted: 10 | Not Inserted: 0 | Errors: 0\n",
      "https://www.patheos.com/entertainment-blogs\n",
      "entertainment-blogs Inserted: 12 | Not Inserted: 0 | Errors: 0\n",
      "https://www.patheos.com/faith-and-work-blogs\n",
      "faith-and-work-blogs Inserted: 16 | Not Inserted: 0 | Errors: 0\n",
      "https://www.patheos.com/patheos-partner-blogs\n",
      "patheos-partner-blogs Inserted: 0 | Not Inserted: 2 | Errors: 0\n"
     ]
    }
   ],
   "source": [
    "patheos.insert_website('Patheos Blogs', 'https://patheos.com/blogs')\n",
    "results = patheos.fetch_and_insert_categories('Patheos Blogs')\n",
    "print(results)\n",
    "with data.database() as db:\n",
    "    result = db.execute(\"SELECT name FROM categories\")\n",
    "    for i in result:\n",
    "        results = patheos.fetch_and_insert_blogs(i[0])\n",
    "        print(f'Inserted: {results.inserted} | Not Inserted: {results.not_inserted} | Errors: {results.exceptions}')"
   ]
  },
  {
   "cell_type": "code",
   "execution_count": 4,
   "metadata": {},
   "outputs": [
    {
     "name": "stdout",
     "output_type": "stream",
     "text": [
      "[(149, 'by Scot McKnight', 'Jesus Creed', 'https://www.patheos.com/blogs/jesuscreed', 4, '2020-04-21', 'default', '2020-04-21', 'default')]\n",
      "[(1625,)]\n"
     ]
    }
   ],
   "source": [
    "with data.database() as db:\n",
    "    result = db.execute(\"SELECT * FROM blogs WHERE url = 'https://www.patheos.com/blogs/jesuscreed'\")\n",
    "    print(result)\n",
    "    result = db.execute(f\"SELECT number FROM site_pages WHERE site_id = 149\")\n",
    "    print(result)"
   ]
  },
  {
   "cell_type": "code",
   "execution_count": 5,
   "metadata": {},
   "outputs": [
    {
     "name": "stdout",
     "output_type": "stream",
     "text": [
      "1640\n",
      "New Pages: 15\n"
     ]
    }
   ],
   "source": [
    "import sys\n",
    "\n",
    "number_of_new_pages = patheos.number_of_blog_pages('Jesus Creed')\n",
    "print(f'\\nNew Pages: {number_of_new_pages}')"
   ]
  },
  {
   "cell_type": "code",
   "execution_count": 7,
   "metadata": {},
   "outputs": [
    {
     "name": "stdout",
     "output_type": "stream",
     "text": [
      "https://www.patheos.com/blogs/jesuscreed/2020/01/01/prayer-for-new-years-day/\n",
      "https://www.patheos.com/blogs/jesuscreed/2019/12/31/face-the-differences-rjs/\n",
      "https://www.patheos.com/blogs/jesuscreed/2019/12/31/temple-then-temple-now/\n",
      "https://www.patheos.com/blogs/jesuscreed/2019/12/31/humor-as-theology/\n",
      "https://www.patheos.com/blogs/jesuscreed/2019/12/30/myth-singleness-is-a-special-calling/\n",
      "https://www.patheos.com/blogs/jesuscreed/2019/12/30/a-b-simpson-and-me/\n",
      "https://www.patheos.com/blogs/jesuscreed/2019/12/29/first-sunday-after-christmas-6/\n",
      "https://www.patheos.com/blogs/jesuscreed/2019/12/27/a-single-man-on-gender-roles-and-the-church/\n",
      "https://www.patheos.com/blogs/jesuscreed/2019/12/26/partly-sunny-partly-cloudy/\n",
      "https://www.patheos.com/blogs/jesuscreed/2019/12/26/mary-was-brave-rjs/\n",
      "0 10\n"
     ]
    }
   ],
   "source": [
    "results_l = patheos.scrape_posts_on_page('https://www.patheos.com/blogs/jesuscreed/page/3')\n",
    "posts_dict = {}\n",
    "\n",
    "results = tools.insert_results()\n",
    "\n",
    "for i in results_l:\n",
    "    print(i)\n",
    "    post = data.post(i, 149)\n",
    "    post = patheos.scrape_post(post, 'no')\n",
    "    posts_dict[post.url] = post\n",
    "    if tools.check_url_new('posts', post.url) == True:\n",
    "        with data.database() as db:\n",
    "            db.insert_post(post)\n",
    "            results.inserted += 1\n",
    "    else:\n",
    "        # <placeholder for logging>\n",
    "        results.not_inserted += 1\n",
    "    \n",
    "print(results.inserted, results.not_inserted)"
   ]
  }
 ],
 "metadata": {
  "file_extension": ".py",
  "kernelspec": {
   "display_name": "Python 3",
   "language": "python",
   "name": "python3"
  },
  "language_info": {
   "codemirror_mode": {
    "name": "ipython",
    "version": 3
   },
   "file_extension": ".py",
   "mimetype": "text/x-python",
   "name": "python",
   "nbconvert_exporter": "python",
   "pygments_lexer": "ipython3",
   "version": "3.8.2"
  },
  "mimetype": "text/x-python",
  "name": "python",
  "npconvert_exporter": "python",
  "pygments_lexer": "ipython3",
  "version": 3
 },
 "nbformat": 4,
 "nbformat_minor": 4
}
