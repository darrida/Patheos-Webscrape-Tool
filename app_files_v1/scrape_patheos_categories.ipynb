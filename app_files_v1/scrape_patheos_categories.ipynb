{
 "cells": [
  {
   "cell_type": "code",
   "execution_count": 15,
   "metadata": {},
   "outputs": [],
   "source": [
    "# STANDARD\n",
    "from pprint import pprint\n",
    "\n",
    "# PyPI\n",
    "from bs4 import BeautifulSoup as BS\n",
    "import requests\n",
    "from tqdm import tqdm\n",
    "\n",
    "# LOCAL\n",
    "from interface_db import db_interface_sqlite as data\n",
    "from interface_website import website_tools as tools\n",
    "from interface_website import website_patheos as patheos"
   ]
  },
  {
   "cell_type": "code",
   "execution_count": 16,
   "metadata": {},
   "outputs": [
    {
     "name": "stdout",
     "output_type": "stream",
     "text": [
      "https://www.patheos.com/buddhist-blogs\n",
      "buddhist-blogs Inserted: 0 | Not Inserted: 5 | Errors: 0\n",
      "https://www.patheos.com/catholic-blogs\n",
      "catholic-blogs Inserted: 0 | Not Inserted: 89 | Errors: 0\n",
      "https://www.patheos.com/contemplative-blogs\n",
      "contemplative-blogs Inserted: 0 | Not Inserted: 8 | Errors: 0\n",
      "https://www.patheos.com/evangelical-blogs\n",
      "evangelical-blogs Inserted: 0 | Not Inserted: 84 | Errors: 0\n",
      "https://www.patheos.com/general-christian-blogs\n",
      "general-christian-blogs Inserted: 0 | Not Inserted: 18 | Errors: 0\n",
      "https://www.patheos.com/hindu-blogs\n",
      "hindu-blogs Inserted: 0 | Not Inserted: 4 | Errors: 0\n",
      "https://www.patheos.com/jewish-blogs\n",
      "jewish-blogs Inserted: 0 | Not Inserted: 6 | Errors: 0\n",
      "https://www.patheos.com/latter-day-saint-blogs\n",
      "latter-day-saint-blogs Inserted: 0 | Not Inserted: 17 | Errors: 0\n",
      "https://www.patheos.com/muslim-blogs\n",
      "muslim-blogs Inserted: 0 | Not Inserted: 34 | Errors: 0\n",
      "https://www.patheos.com/new-visions-blogs\n",
      "new-visions-blogs Inserted: 0 | Not Inserted: 35 | Errors: 0\n",
      "https://www.patheos.com/nonreligious-blogs\n",
      "nonreligious-blogs Inserted: 0 | Not Inserted: 65 | Errors: 0\n",
      "https://www.patheos.com/pagan-blogs\n",
      "pagan-blogs Inserted: 0 | Not Inserted: 59 | Errors: 0\n",
      "https://www.patheos.com/progressive-christian-blogs\n",
      "progressive-christian-blogs Inserted: 0 | Not Inserted: 106 | Errors: 0\n",
      "https://www.patheos.com/more-voices-blogs\n",
      "more-voices-blogs Inserted: 0 | Not Inserted: 3 | Errors: 0\n",
      "https://www.patheos.com/sixseeds-family-blogs\n",
      "sixseeds-family-blogs Inserted: 0 | Not Inserted: 24 | Errors: 0\n",
      "https://www.patheos.com/politics-blue-blogs\n",
      "politics-blue-blogs Inserted: 0 | Not Inserted: 3 | Errors: 0\n",
      "https://www.patheos.com/politics-red-blogs\n",
      "politics-red-blogs Inserted: 0 | Not Inserted: 10 | Errors: 0\n",
      "https://www.patheos.com/entertainment-blogs\n",
      "entertainment-blogs Inserted: 0 | Not Inserted: 12 | Errors: 0\n",
      "https://www.patheos.com/faith-and-work-blogs\n",
      "faith-and-work-blogs Inserted: 0 | Not Inserted: 16 | Errors: 0\n",
      "https://www.patheos.com/patheos-partner-blogs\n",
      "patheos-partner-blogs Inserted: 0 | Not Inserted: 2 | Errors: 0\n"
     ]
    }
   ],
   "source": [
    "with data.database() as db:\n",
    "    result = db.execute(\"SELECT name FROM categories\")\n",
    "    for i in result:\n",
    "        results = patheos.fetch_and_insert_blogs(i[0])\n",
    "        print(f'Inserted: {results.inserted} | Not Inserted: {results.not_inserted} | Errors: {results.exceptions}')"
   ]
  },
  {
   "cell_type": "code",
   "execution_count": 39,
   "metadata": {},
   "outputs": [],
   "source": [
    "def number_of_blog_pages(blog_name: str) -> int:\n",
    "    with data.database() as db:\n",
    "        blog = db.query_blogs(blog_name)\n",
    "    base_page_url = blog.url + '/page/'\n",
    "    continue_on = True\n",
    "    search_increment = 100\n",
    "    p = 1\n",
    "    valid_page = 1\n",
    "    while search_increment > 0:\n",
    "        p = p + search_increment\n",
    "        url = base_page_url + str(p)\n",
    "        url_test = requests.get(url)\n",
    "        if search_increment == 100:              # search for valid pages by increments of 100\n",
    "            if url_test.status_code != 404:\n",
    "                #p = p + search_increment\n",
    "                valid_page = p\n",
    "            else:\n",
    "                search_increment = 10\n",
    "                p = valid_page\n",
    "        elif search_increment == 10:             # search for valid pages by increments of 10\n",
    "            if url_test.status_code != 404:\n",
    "                #p = p + search_increment\n",
    "                valid_page = p\n",
    "            else:\n",
    "                search_increment = 1\n",
    "                p = valid_page\n",
    "        elif search_increment == 1:              # search for valid pages by increments of 1\n",
    "            if url_test.status_code != 404:\n",
    "                #p = p + search_increment\n",
    "                valid_page = p\n",
    "            else:\n",
    "                search_increment = 0\n",
    "        else:\n",
    "            return p\n",
    "        sys.stdout.write('\\r'+ str(valid_page))   "
   ]
  },
  {
   "cell_type": "raw",
   "metadata": {},
   "source": [
    "    \n",
    "    \n",
    "    while continue_on == True:\n",
    "        base_page_url + str(p)\n",
    "        url_test = requests.get(blog_page_url)\n",
    "        if url_test.status_code != 404:\n",
    "            #url_list.append(blog_page_url)\n",
    "            #print(blog_page_url)\n",
    "            p = p + 1\n",
    "            continue_on = True\n",
    "        else:\n",
    "            continue_on = False\n",
    "        sys.stdout.write('\\r'+ str(p))"
   ]
  },
  {
   "cell_type": "code",
   "execution_count": 40,
   "metadata": {},
   "outputs": [
    {
     "name": "stdout",
     "output_type": "stream",
     "text": [
      "[(47, 'by Scot McKnight', 'Jesus Creed', 'https://www.patheos.com/blogs/jesuscreed', 4, '2020-04-18', 'default', '2020-04-18', 'default')]\n"
     ]
    }
   ],
   "source": [
    "with data.database() as db:\n",
    "    result = db.execute(\"SELECT * FROM blogs WHERE url = 'https://www.patheos.com/blogs/jesuscreed'\")\n",
    "    print(result)"
   ]
  },
  {
   "cell_type": "code",
   "execution_count": 41,
   "metadata": {},
   "outputs": [
    {
     "name": "stdout",
     "output_type": "stream",
     "text": [
      "1640"
     ]
    }
   ],
   "source": [
    "import sys\n",
    "\n",
    "number_of_blog_pages('Jesus Creed')"
   ]
  },
  {
   "cell_type": "code",
   "execution_count": null,
   "metadata": {},
   "outputs": [],
   "source": [
    "def fetch_and_insert_posts(blog_name: str) -> tools.insert_results():\n",
    "    pass"
   ]
  }
 ],
 "metadata": {
  "file_extension": ".py",
  "kernelspec": {
   "display_name": "Python 3",
   "language": "python",
   "name": "python3"
  },
  "language_info": {
   "codemirror_mode": {
    "name": "ipython",
    "version": 3
   },
   "file_extension": ".py",
   "mimetype": "text/x-python",
   "name": "python",
   "nbconvert_exporter": "python",
   "pygments_lexer": "ipython3",
   "version": "3.8.2"
  },
  "mimetype": "text/x-python",
  "name": "python",
  "npconvert_exporter": "python",
  "pygments_lexer": "ipython3",
  "version": 3
 },
 "nbformat": 4,
 "nbformat_minor": 4
}
