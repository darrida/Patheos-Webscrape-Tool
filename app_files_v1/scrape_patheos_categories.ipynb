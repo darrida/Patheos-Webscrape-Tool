{
 "cells": [
  {
   "cell_type": "code",
   "execution_count": 1,
   "metadata": {},
   "outputs": [],
   "source": [
    "# STANDARD\n",
    "from pprint import pprint\n",
    "\n",
    "# PyPI\n",
    "from bs4 import BeautifulSoup as BS\n",
    "import requests\n",
    "from tqdm import tqdm\n",
    "\n",
    "# LOCAL\n",
    "from interface_db import db_interface_sqlite as data\n",
    "from interface_website import website_tools as tools\n",
    "from interface_website import website_patheos as patheos"
   ]
  },
  {
   "cell_type": "code",
   "execution_count": 2,
   "metadata": {},
   "outputs": [],
   "source": [
    "with data.database() as db:\n",
    "    db.create_tables()\n",
    "    db.insert_update_site_pages(1625, 149)\n",
    "    #result = db.execute(f\"SELECT number FROM site_pages WHERE site_id = 47\")\n",
    "    #print(result[0][0])\n",
    "    #for i in result:\n",
    "    #    results = patheos.fetch_and_insert_blogs(i[0])\n",
    "    #    print(f'Inserted: {results.inserted} | Not Inserted: {results.not_inserted} | Errors: {results.exceptions}')"
   ]
  },
  {
   "cell_type": "code",
   "execution_count": 11,
   "metadata": {},
   "outputs": [
    {
     "name": "stdout",
     "output_type": "stream",
     "text": [
      "Inserting Patheos Blogs - https://patheos.com/blogs\n",
      "Not inserted. If exists, then https://patheos.com/blogs is already present, named Patheos Blogs.\n",
      "Pulling categories for Patheos Blogs\n",
      "<interface_website.website_tools.insert_results object at 0x0000022946D6D400>\n",
      "https://www.patheos.com/buddhist-blogs\n",
      "buddhist-blogs Inserted: 0 | Not Inserted: 5 | Errors: 0\n",
      "https://www.patheos.com/catholic-blogs\n",
      "catholic-blogs Inserted: 0 | Not Inserted: 89 | Errors: 0\n",
      "https://www.patheos.com/contemplative-blogs\n",
      "contemplative-blogs Inserted: 0 | Not Inserted: 8 | Errors: 0\n",
      "https://www.patheos.com/evangelical-blogs\n",
      "evangelical-blogs Inserted: 0 | Not Inserted: 84 | Errors: 0\n",
      "https://www.patheos.com/general-christian-blogs\n",
      "general-christian-blogs Inserted: 0 | Not Inserted: 18 | Errors: 0\n",
      "https://www.patheos.com/hindu-blogs\n",
      "hindu-blogs Inserted: 0 | Not Inserted: 4 | Errors: 0\n",
      "https://www.patheos.com/jewish-blogs\n",
      "jewish-blogs Inserted: 0 | Not Inserted: 6 | Errors: 0\n",
      "https://www.patheos.com/latter-day-saint-blogs\n",
      "latter-day-saint-blogs Inserted: 0 | Not Inserted: 17 | Errors: 0\n",
      "https://www.patheos.com/muslim-blogs\n",
      "muslim-blogs Inserted: 0 | Not Inserted: 34 | Errors: 0\n",
      "https://www.patheos.com/new-visions-blogs\n",
      "new-visions-blogs Inserted: 0 | Not Inserted: 35 | Errors: 0\n",
      "https://www.patheos.com/nonreligious-blogs\n",
      "nonreligious-blogs Inserted: 0 | Not Inserted: 65 | Errors: 0\n",
      "https://www.patheos.com/pagan-blogs\n",
      "pagan-blogs Inserted: 0 | Not Inserted: 59 | Errors: 0\n",
      "https://www.patheos.com/progressive-christian-blogs\n",
      "progressive-christian-blogs Inserted: 0 | Not Inserted: 106 | Errors: 0\n",
      "https://www.patheos.com/more-voices-blogs\n",
      "more-voices-blogs Inserted: 0 | Not Inserted: 3 | Errors: 0\n",
      "https://www.patheos.com/sixseeds-family-blogs\n",
      "sixseeds-family-blogs Inserted: 0 | Not Inserted: 24 | Errors: 0\n",
      "https://www.patheos.com/politics-blue-blogs\n",
      "politics-blue-blogs Inserted: 0 | Not Inserted: 3 | Errors: 0\n",
      "https://www.patheos.com/politics-red-blogs\n",
      "politics-red-blogs Inserted: 0 | Not Inserted: 10 | Errors: 0\n",
      "https://www.patheos.com/entertainment-blogs\n",
      "entertainment-blogs Inserted: 0 | Not Inserted: 12 | Errors: 0\n",
      "https://www.patheos.com/faith-and-work-blogs\n",
      "faith-and-work-blogs Inserted: 0 | Not Inserted: 16 | Errors: 0\n",
      "https://www.patheos.com/patheos-partner-blogs\n",
      "patheos-partner-blogs Inserted: 0 | Not Inserted: 2 | Errors: 0\n"
     ]
    }
   ],
   "source": [
    "patheos.insert_website('Patheos Blogs', 'https://patheos.com/blogs')\n",
    "results = patheos.fetch_and_insert_categories('Patheos Blogs')\n",
    "print(results)\n",
    "with data.database() as db:\n",
    "    result = db.execute(\"SELECT name FROM categories\")\n",
    "    for i in result:\n",
    "        results = patheos.fetch_and_insert_blogs(i[0])\n",
    "        print(f'Inserted: {results.inserted} | Not Inserted: {results.not_inserted} | Errors: {results.exceptions}')"
   ]
  },
  {
   "cell_type": "code",
   "execution_count": 3,
   "metadata": {},
   "outputs": [
    {
     "name": "stdout",
     "output_type": "stream",
     "text": [
      "[(149, 'by Scot McKnight', 'Jesus Creed', 'https://www.patheos.com/blogs/jesuscreed', 4, '2020-04-19', 'default', '2020-04-19', 'default')]\n",
      "[(1625,)]\n"
     ]
    }
   ],
   "source": [
    "with data.database() as db:\n",
    "    result = db.execute(\"SELECT * FROM blogs WHERE url = 'https://www.patheos.com/blogs/jesuscreed'\")\n",
    "    print(result)\n",
    "    result = db.execute(f\"SELECT number FROM site_pages WHERE site_id = 149\")\n",
    "    print(result)"
   ]
  },
  {
   "cell_type": "code",
   "execution_count": 4,
   "metadata": {},
   "outputs": [
    {
     "name": "stdout",
     "output_type": "stream",
     "text": [
      "1640\n",
      "New Pages: 15\n"
     ]
    }
   ],
   "source": [
    "import sys\n",
    "\n",
    "number_of_new_pages = patheos.number_of_blog_pages('Jesus Creed')\n",
    "print(f'\\nNew Pages: {number_of_new_pages}')"
   ]
  },
  {
   "cell_type": "code",
   "execution_count": 2,
   "metadata": {},
   "outputs": [
    {
     "name": "stdout",
     "output_type": "stream",
     "text": [
      "https://www.patheos.com/blogs/jesuscreed/2020/01/08/reading-the-bible-fast-and-slow/\n",
      "https://www.patheos.com/blogs/jesuscreed/2020/01/07/calendars-in-the-sky-rjs/\n",
      "https://www.patheos.com/blogs/jesuscreed/2020/01/07/singles-myth-finding-someone-is-top-priority/\n",
      "https://www.patheos.com/blogs/jesuscreed/2020/01/06/elisabeth-elliot-and-me-by-ruth-tucker/\n",
      "https://www.patheos.com/blogs/jesuscreed/2020/01/06/gotta-have-faith-but-what-is-faith/\n",
      "https://www.patheos.com/blogs/jesuscreed/2020/01/05/second-sunday-after-sunday/\n",
      "https://www.patheos.com/blogs/jesuscreed/2020/01/04/weekly-meanderings-4-january-2020/\n",
      "https://www.patheos.com/blogs/jesuscreed/2020/01/03/culture-of-storytellers-pastors-podcast/\n",
      "https://www.patheos.com/blogs/jesuscreed/2020/01/02/from-the-stump-of-jesse-rjs/\n",
      "https://www.patheos.com/blogs/jesuscreed/2020/01/02/myth-singles-need-to-be-pitied/\n"
     ]
    }
   ],
   "source": [
    "subsub_blog = requests.get('https://www.patheos.com/blogs/jesuscreed/page/2')\n",
    "if subsub_blog != \"<Response [404]>\":\n",
    "    soup2 = BS(subsub_blog.content, 'html.parser')\n",
    "    for blog in soup2.find_all('h2', attrs={\"class\":\"entry-title\"}):\n",
    "        blog_url1 = blog.find('a')\n",
    "        blog_url2 = blog_url1['href']\n",
    "        print(blog_url2)\n",
    "        #subblog_list.append(blog_url2) "
   ]
  },
  {
   "cell_type": "code",
   "execution_count": 4,
   "metadata": {},
   "outputs": [
    {
     "name": "stdout",
     "output_type": "stream",
     "text": [
      "https://www.patheos.com/blogs/jesuscreed/2020/01/08/reading-the-bible-fast-and-slow/\n",
      "https://www.patheos.com/blogs/jesuscreed/2020/01/07/calendars-in-the-sky-rjs/\n",
      "https://www.patheos.com/blogs/jesuscreed/2020/01/07/singles-myth-finding-someone-is-top-priority/\n",
      "https://www.patheos.com/blogs/jesuscreed/2020/01/06/elisabeth-elliot-and-me-by-ruth-tucker/\n",
      "https://www.patheos.com/blogs/jesuscreed/2020/01/06/gotta-have-faith-but-what-is-faith/\n",
      "https://www.patheos.com/blogs/jesuscreed/2020/01/05/second-sunday-after-sunday/\n",
      "https://www.patheos.com/blogs/jesuscreed/2020/01/04/weekly-meanderings-4-january-2020/\n",
      "https://www.patheos.com/blogs/jesuscreed/2020/01/03/culture-of-storytellers-pastors-podcast/\n",
      "https://www.patheos.com/blogs/jesuscreed/2020/01/02/from-the-stump-of-jesse-rjs/\n",
      "https://www.patheos.com/blogs/jesuscreed/2020/01/02/myth-singles-need-to-be-pitied/\n"
     ]
    }
   ],
   "source": [
    "results_l = patheos.scrape_posts_on_page('https://www.patheos.com/blogs/jesuscreed/page/2')\n",
    "\n",
    "for i in results_l:\n",
    "    print(i)"
   ]
  },
  {
   "cell_type": "code",
   "execution_count": 21,
   "metadata": {},
   "outputs": [],
   "source": [
    "def scrape_post(post_url: str, unicode_escape_yes_no) -> object:  # post class\n",
    "    invalid_urls = []\n",
    "    post = data.post()\n",
    "    response = requests.get(post_url)\n",
    "    if response.status_code != 404:\n",
    "        parsed_html = BS(response.content, 'html.parser')\n",
    "        post.url = post_url\n",
    "        post.title = parsed_html.find(\"h1\", {\"class\" : \"entry-title\"}).text\n",
    "        for g_basic in parsed_html.find_all(\"div\", {\"class\": \"main-post\"}):\n",
    "            post.author = g_basic.find(\"span\", {\"itemprop\": \"author\"}).text\n",
    "            post.date = g_basic.find(\"span\", {\"itemprop\": \"datePublished dateModified\"}).text\n",
    "        post.content = parsed_html.find(\"div\", {\"class\": \"story-block\"}).text\n",
    "        post.content_html\n",
    "    if unicode_escape_yes_no == \"yes\":\n",
    "        post.title = post.title.encode('unicode_escape')\n",
    "        post.content = post.content.encode('unicode_escape')\n",
    "    return post"
   ]
  },
  {
   "cell_type": "code",
   "execution_count": 22,
   "metadata": {},
   "outputs": [
    {
     "name": "stdout",
     "output_type": "stream",
     "text": [
      "<class 'interface_db.db_interface_sqlite.post'>\n",
      "https://www.patheos.com/blogs/jesuscreed/2020/01/02/myth-singles-need-to-be-pitied/\n",
      "Myth: Singles Need to be Pitied\n",
      "Scot McKnight\n",
      "January 2, 2020\n",
      "\n",
      "\n",
      "By Corey Farr\n",
      "Myth: Single people should be pitied or laughed at\n",
      "I have a confession to make.\n",
      "When I was in middle school, my science teacher’s name was Mr. Tarullo. Mr. T was in his mid-50’s, thin, bald, a bit quirky, and single. He was a loving man, a great teacher, and extremely dedicated to his work. He was always one of the first to get to the school in the morning and one of the last to leave in the evening. When he wasn’t going over tests and quizzes, he was usually reading his Bible in silence in his classroom, in that funny way where he’d put his elbows on his desk and cup his bald forehead in his palms as he stared down at the pages. He was close to his family and his church community. He would drive several hours up to visit his widowed mother in a little town up north to help her mow her lawn and take care of the house he grew up in. He had a pretty cool life, but all we could see was that it was boring and … well, strange.\n",
      "\n",
      "\n",
      "\n",
      "Singleness is different, but it’s not a disability. (Click to share on Twitter)\n",
      "\n",
      "But as I said, I have a confession to make, so here we go. None of that stopped me from feeling bad for him – because he was single. None of it stopped us kids from whispering about how he must live behind the chalkboard since he was always at the school and had no one else to go home to. It didn’t stop us from cracking jokes about how he and Miss W, the only other single teacher at the school, must have a secret love affair going on. We pitied him, assuming he must be unhappy with his lack of relationship status. And he became the butt of lots of jokes, because we had no idea how to value someone like him.\n",
      "But so what? I was an immature middle schooler, and now I’m much older and wiser, right? I wish I could say I grew out of it quickly, but that would be a lie, because I have another confession to make.\n",
      "Adam was a guy at my church. Funny, likeable, good-looking, committed, hard-working, in his early 30s but youthful and energetic. But Adam was single. And traditionally, at least in the evangelical community, someone who makes it to 30 without getting hitched is an anomaly. Some might even say – or at least think – that at that point they’re hopeless. \n",
      "\n",
      "\n",
      "So, you guessed it, we pitied him. I felt bad for the guy, even though I was quickly approaching 30 myself! We all felt bad, like he was a cute disabled kid or a three-legged puppy. “Aww, Adam,” we would say when he wasn’t around, “I love him so much. He’s such a sweet guy,” in the patronizing way that really meant, “Poor Adam. Too bad for him.” It didn’t stop us from making jokes, though, or questioning his sexuality – sometimes not so jokingly.\n",
      "Adam had a very close friend named … well, it’s tempting to call her Eve, but let’s say Amy. Adam and Amy were inseparable. No matter how much they denied they were a couple and insisted they weren’t even interested in each other, we still cracked jokes like we were middle schoolers all over again. At least we had the decency (is it, though?) to do it behind their backs. “I think they’re in love.” “No, I think she’s in love with him, and I think he’s gay.” “Well, who knows, but I’m sure they’ll come to the party together this week.”\n",
      "Even if I’m passionate about it now, it’s obvious I haven’t always understood the value and beauty of being a single Christian. And the truth is that for far too long it became second nature to feel sorry for people who aren’t “with someone.” That should have made it easy to work extra hard to include them and love them well. At least that would have been a positive manifestation of the unhealthy belief that their situation was pitiful. But no, usually it was just so much more fun to make everyone laugh at their expense. Ironically, I never stopped to consider who might be laughing at my expense.\n",
      "Truth: Singles just need to be loved like everyone else\n",
      "This is a painfully obvious truth. In previous articles, we’ve established that singleness is different, but it’s not a disability. Different from what, anyway? We might need to be reminded that single is the default relationship status. It’s sad how many times I’ve seen people forget this, especially after getting married, and somehow also forget how to have friendships with non-married people.\n",
      "\n",
      "The point here is not that singles need some of the extra love that all the non-singles have. The point is that everyone needs to find love in their lives by giving it freely to others, and singles generally fall under the category of “everyone.”\n",
      "\n",
      "\n",
      "\n",
      "\n",
      "\n",
      "I once preached a sermon at my home congregation where I brought up some of the issues of singleness in this series. The most intensely positive feedback came from the last person I expected, a sweet but fiery elderly French-Canadian widow named Maddy Murphy. I’ve known Maddy since I was very young. Her family is like a second family to me. Her son, Bryan, has been a mentor and second father to me, his kids feel like my own siblings, and she is like my third grandma. Maddy’s husband had died a number of years before. Together, they had been founding members of the church; he was a long-standing and deeply respected pillar of the community. We all loved Tom. Especially Maddy. She was head over heels for him right up to the end (and probably still is!).\n",
      "After my sermon, Maddy came up to me and told me – and I knew I had no say in the matter – “I’m taking you out to lunch.” Now, listen: Maddy has no shortage of family and friends in her life. She has a rich community, and she lives in the in-law apartment next to her son, daughter-in-law, and six grandchildren. She is absolutely adored by everyone who knows her. But on Tuesday I sat across the table from her at Panera Bread as she shared with me how much those few words in my Sunday sermon had resonated exactly with her feelings. She told me about the loneliness of being a widow in the church. Loneliness created not only by the loss of a husband, but by a shift in the way she felt she was viewed and treated in the community. Apparently even a 70 year old widow can feel impacted by the myths and stigmas of singleness we’ve discussed in this chapter.\n",
      "\n",
      "\n",
      "This was heartbreaking to me. I think it would be naive in the extreme to expect things for Maddy to continue just as they were after cancer finally took her husband away; but to know that she felt isolated and even (unintentionally, I’m sure) ostracized from her community was tragic – especially when caring for widows, orphans, refugees, and the poor is a major recurring theme throughout the entire Bible. Jesus himself made sure he didn’t forget to entrust his mother to the care of a surrogate loving son in John 19, even while he was hanging bloodied and beaten, dehydrated and gasping for breath on a cross.\n",
      "Singles need to be loved and included just like everyone else, because no one can truly live without intimacy. In some ways, they need communal love even more than others in the church because they do not have a marriage partner. It is unfortunate that so often the unfounded stigmas or uncertainty around singleness causes them to be – intentionally or not – excluded and held at arm’s length.\n",
      "Read the first sentence of that last paragraph again. If it sounds like something sad to you, you haven’t gotten the point yet. If you think, “Oh they’re so lonely, they need my love and my charity,” then you haven’t gotten the point yet. If you’re married and you think, “Oh their life is just so empty and mine is so full, so I need to share that with them,” then you haven’t gotten the point yet. Of course singles’ lives can be lonely, empty, and sad – but so can married ones. The point here is not that singles need some of the extra love that all the non-singles have. The point is that everyone needs to find love in their lives by giving it freely to others, and singles generally fall under the category of “everyone.”\n",
      "\n",
      "\n",
      "Corey Farr is a graduate of Northern Seminary. He is currently located in the Middle East in Lebanon, a tiny country next to war-torn Syria, where he lives and works on-site at a residential facility and elementary school for both Syrian and Lebanese orphans and children at risk. A singer-songwriter and wanna-be author, Corey blogs about faith, spirituality, and poetry at www.coreyfarr.com.\n",
      "\n",
      "\n"
     ]
    }
   ],
   "source": [
    "url = 'https://www.patheos.com/blogs/jesuscreed/2020/01/02/myth-singles-need-to-be-pitied/'\n",
    "\n",
    "post = scrape_post(url, 'no')\n",
    "print(type(post))\n",
    "print(post.url)\n",
    "print(post.title)\n",
    "print(post.author)\n",
    "print(post.date)\n",
    "print(post.content)"
   ]
  },
  {
   "cell_type": "code",
   "execution_count": null,
   "metadata": {},
   "outputs": [],
   "source": [
    "def fetch_and_insert_posts(blog_name: str) -> tools.insert_results():\n",
    "    pass"
   ]
  }
 ],
 "metadata": {
  "file_extension": ".py",
  "kernelspec": {
   "display_name": "Python 3",
   "language": "python",
   "name": "python3"
  },
  "language_info": {
   "codemirror_mode": {
    "name": "ipython",
    "version": 3
   },
   "file_extension": ".py",
   "mimetype": "text/x-python",
   "name": "python",
   "nbconvert_exporter": "python",
   "pygments_lexer": "ipython3",
   "version": "3.8.2"
  },
  "mimetype": "text/x-python",
  "name": "python",
  "npconvert_exporter": "python",
  "pygments_lexer": "ipython3",
  "version": 3
 },
 "nbformat": 4,
 "nbformat_minor": 4
}
