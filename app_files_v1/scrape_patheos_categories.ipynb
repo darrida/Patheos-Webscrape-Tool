{
 "nbformat": 4,
 "nbformat_minor": 2,
 "metadata": {
  "language_info": {
   "name": "python",
   "codemirror_mode": {
    "name": "ipython",
    "version": 3
   },
   "version": "3.8.2-final"
  },
  "orig_nbformat": 2,
  "file_extension": ".py",
  "mimetype": "text/x-python",
  "name": "python",
  "npconvert_exporter": "python",
  "pygments_lexer": "ipython3",
  "version": 3,
  "kernelspec": {
   "name": "python38264bitvenvvenvec9a0c7bd09e403bab652ad9ac5e08b9",
   "display_name": "Python 3.8.2 64-bit ('venv': venv)"
  }
 },
 "cells": [
  {
   "cell_type": "code",
   "execution_count": 1,
   "metadata": {},
   "outputs": [],
   "source": [
    "# STANDARD\n",
    "from pprint import pprint\n",
    "\n",
    "# PyPI\n",
    "from bs4 import BeautifulSoup as BS\n",
    "import requests\n",
    "from tqdm import tqdm\n",
    "\n",
    "# LOCAL\n",
    "from interface_db import db_interface_sqlite as data"
   ]
  },
  {
   "cell_type": "code",
   "execution_count": 15,
   "metadata": {},
   "outputs": [],
   "source": [
    "def parse_html(url: str) -> str:\n",
    "    response = requests.get(url)\n",
    "    return BS(response.content, 'html.parser')\n",
    "\n",
    "def check_url_new(url: str) -> bool:\n",
    "    with data.database() as db:\n",
    "        if db.execute(f'SELECT url FROM categories WHERE url = \\'{url}\\'') == url:\n",
    "            return False\n",
    "        else:\n",
    "            return True"
   ]
  },
  {
   "cell_type": "code",
   "execution_count": 16,
   "metadata": {},
   "outputs": [
    {
     "output_type": "stream",
     "name": "stdout",
     "text": "Pulling categories for Patheos Blogs\nhttps://www.patheos.com/buddhist-blogs\ninserted\nhttps://www.patheos.com/catholic-blogs\ninserted\nhttps://www.patheos.com/contemplative-blogs\ninserted\nhttps://www.patheos.com/evangelical-blogs\ninserted\nhttps://www.patheos.com/general-christian-blogs\ninserted\nhttps://www.patheos.com/hindu-blogs\ninserted\nhttps://www.patheos.com/jewish-blogs\ninserted\nhttps://www.patheos.com/latter-day-saint-blogs\ninserted\nhttps://www.patheos.com/muslim-blogs\ninserted\nhttps://www.patheos.com/new-visions-blogs\ninserted\nhttps://www.patheos.com/nonreligious-blogs\ninserted\nhttps://www.patheos.com/pagan-blogs\ninserted\nhttps://www.patheos.com/progressive-christian-blogs\ninserted\nhttps://www.patheos.com/more-voices-blogs\ninserted\nhttps://www.patheos.com/sixseeds-family-blogs\ninserted\nhttps://www.patheos.com/politics-blue-blogs\ninserted\nhttps://www.patheos.com/politics-red-blogs\ninserted\nhttps://www.patheos.com/entertainment-blogs\ninserted\nhttps://www.patheos.com/faith-and-work-blogs\ninserted\nhttps://www.patheos.com/patheos-partner-blogs\ninserted\n"
    }
   ],
   "source": [
    "def fetch_and_insert_categories(website_name: str) -> None:\n",
    "    with data.database() as db:\n",
    "        base = db.query_websites(website_name)\n",
    "        print(f'Pulling categories for {base.name}')\n",
    "        parsed_html = parse_html(base.url)\n",
    "        for item in parsed_html.find_all('div', attrs={\"class\":\"related-content clearfix related-content-sm decorated channel-list\"}):\n",
    "            category_url = item.find('a')['href']\n",
    "            category_name = category_url.rsplit(\"/\")[3]\n",
    "            category = data.category(category_name, category_url, base.id)\n",
    "            print(category.url)\n",
    "            if check_url_new(category.url) == True:\n",
    "                db.insert_category(category)\n",
    "                print('inserted')\n",
    "            else:\n",
    "                print('not inserted')\n",
    "\n",
    "\n",
    "\n",
    "fetch_and_insert_categories('Patheos Blogs')\n",
    "\n"
   ]
  },
  {
   "cell_type": "code",
   "execution_count": 42,
   "metadata": {},
   "outputs": [],
   "source": [
    "def fetch_blogs():\n",
    "    \"\"\"[ ] Document for refactoring\n",
    "    \n",
    "    \"\"\"\n",
    "    url = 'http://www.patheos.com/blogs'\n",
    "    response = requests.get(url)\n",
    "    soup = BS(response.content, 'html.parser')\n",
    "\n",
    "    blog_list = []\n",
    "\n",
    "    for blog in soup.find_all('div', attrs={\"class\":\"related-content clearfix related-content-sm decorated channel-list\"}):\n",
    "        blog_url1 = blog.find('a')\n",
    "        blog_url_test = blog.find('a')['href']\n",
    "        blog_url2 = blog_url1['href']\n",
    "        blog_list.append(blog_url2) \n",
    "    \n",
    "    print('blog_url2')\n",
    "    pprint(blog_url_test)\n",
    "    pprint(blog_url1)\n",
    "    pprint(blog_url2)\n",
    "    pprint(blog_list)\n",
    "\n",
    "    blog_lists = []\n",
    "    \n",
    "    for i in blog_list:\n",
    "        split_url = i.rsplit(\"/\")\n",
    "        blog_name = split_url[3]\n",
    "        blog_lists.append(blog_name)\n",
    "    \n",
    "    blog_dict = {i:[] for i in blog_lists}\n",
    "\n",
    "    blog_cat_prefix = \"https://www.patheos.com/\"\n",
    "\n",
    "    i = 0    \n",
    "    for blog_urls in tqdm(blog_dict, desc='Fetch blog urls for each category'):\n",
    "        if blog_urls:\n",
    "            query_url = blog_cat_prefix + blog_urls\n",
    "            #sleep(random.uniform(1, 3))\n",
    "            subsub_blog = requests.get(query_url)\n",
    "            soup2 = BS(subsub_blog.content, 'html.parser')\n",
    "            for blog in soup2.find_all('div', attrs={\"class\":\"author-info\"}):\n",
    "                for blog_url0 in blog.find_all('div', attrs={\"class\":\"title\"}):\n",
    "                    blog_url1 = blog_url0.find('a')\n",
    "                    blog_url2 = blog_url1['href']\n",
    "                    blog_dict[blog_urls].append(blog_url2)\n",
    "\n",
    "            i = i + 1\n",
    "        else:\n",
    "            continue\n",
    "    return blog_dict"
   ]
  },
  {
   "cell_type": "code",
   "execution_count": 43,
   "metadata": {},
   "outputs": [
    {
     "output_type": "stream",
     "name": "stderr",
     "text": "Fetch blog urls for each category:   0%|          | 0/20 [00:00<?, ?it/s]blog_url2\n'https://www.patheos.com/patheos-partner-blogs'\n<a href=\"https://www.patheos.com/patheos-partner-blogs\"><img alt=\"\" class=\"lazyblur lazyload\" data-src=\"https://media.patheos.com/~/media/images/components/channel-list/icon-partner.svg?as=1&amp;h=70&amp;w=70\" src=\"https://media.patheos.com/~/media/images/components/channel-list/icon-partner.svg?as=1&amp;h=70&amp;w=70?w=25\"/></a>\n'https://www.patheos.com/patheos-partner-blogs'\n['https://www.patheos.com/buddhist-blogs',\n 'https://www.patheos.com/catholic-blogs',\n 'https://www.patheos.com/contemplative-blogs',\n 'https://www.patheos.com/evangelical-blogs',\n 'https://www.patheos.com/general-christian-blogs',\n 'https://www.patheos.com/hindu-blogs',\n 'https://www.patheos.com/jewish-blogs',\n 'https://www.patheos.com/latter-day-saint-blogs',\n 'https://www.patheos.com/muslim-blogs',\n 'https://www.patheos.com/new-visions-blogs',\n 'https://www.patheos.com/nonreligious-blogs',\n 'https://www.patheos.com/pagan-blogs',\n 'https://www.patheos.com/progressive-christian-blogs',\n 'https://www.patheos.com/more-voices-blogs',\n 'https://www.patheos.com/sixseeds-family-blogs',\n 'https://www.patheos.com/politics-blue-blogs',\n 'https://www.patheos.com/politics-red-blogs',\n 'https://www.patheos.com/entertainment-blogs',\n 'https://www.patheos.com/faith-and-work-blogs',\n 'https://www.patheos.com/patheos-partner-blogs']\nFetch blog urls for each category: 100%|██████████| 20/20 [00:07<00:00,  2.85it/s]\n"
    }
   ],
   "source": [
    "results = fetch_blogs()"
   ]
  },
  {
   "cell_type": "code",
   "execution_count": 25,
   "metadata": {
    "tags": [
     "outputPrepend"
    ]
   },
   "outputs": [
    {
     "output_type": "stream",
     "name": "stdout",
     "text": "://www.patheos.com/blogs/abletochoose',\n                        'https://www.patheos.com/blogs/accordingtomatthew',\n                        'https://www.patheos.com/blogs/rivers',\n                        'https://www.patheos.com/blogs/anotherbreedoffaith',\n                        'https://www.patheos.com/blogs/anotherwhiteatheistincolombia',\n                        'https://www.patheos.com/blogs/theatheistandthepastor',\n                        'https://www.patheos.com/blogs/atheistallie',\n                        'https://www.patheos.com/blogs/theatheistrabbi',\n                        'https://www.patheos.com/blogs/atheology',\n                        'https://www.patheos.com/blogs/barrierbreaker',\n                        'https://www.patheos.com/blogs/blamelesssky',\n                        'https://www.patheos.com/blogs/blinkyandsal',\n                        'https://www.patheos.com/blogs/brotherrichard',\n                        'https://www.patheos.com/blogs/camelswithhammers',\n                        'https://www.patheos.com/blogs/cognitivedemons',\n                        'https://www.patheos.com/blogs/crossexamined',\n                        'https://www.patheos.com/blogs/daylightatheism',\n                        'https://www.patheos.com/blogs/dispatches',\n                        'https://www.patheos.com/blogs/dogmadebate',\n                        'https://www.patheos.com/blogs/driventoabstraction',\n                        'https://www.patheos.com/blogs/excommunications',\n                        'https://www.patheos.com/blogs/infernal',\n                        'https://www.patheos.com/blogs/foxyfolklorist',\n                        'https://www.patheos.com/blogs/thefreethinker',\n                        'https://www.patheos.com/blogs/freethoughtnow',\n                        'https://www.patheos.com/blogs/fridaynightheretics',\n                        'http://friendlyatheist.patheos.com',\n                        'https://www.patheos.com/blogs/thegaytheistmanifesto',\n                        'https://www.patheos.com/blogs/gregepstein',\n                        'https://www.patheos.com/blogs/godlessindixie',\n                        'https://www.patheos.com/blogs/godlessmom',\n                        'https://www.patheos.com/blogs/godzooks',\n                        'https://www.patheos.com/blogs/thegraffitiwall',\n                        'https://www.patheos.com/blogs/humanistplus',\n                        'https://www.patheos.com/blogs/intentionalinsights',\n                        'https://www.patheos.com/blogs/kudzu',\n                        'https://www.patheos.com/blogs/laughingindisbelief',\n                        'https://www.patheos.com/blogs/leavingfundamentalism',\n                        'https://www.patheos.com/blogs/lovejoyfeminism',\n                        'https://www.patheos.com/blogs/theluckyones',\n                        'https://www.patheos.com/blogs/miraclegirl',\n                        'https://www.patheos.com/blogs/naturalwonderers',\n                        'https://www.patheos.com/blogs/nolongerquivering',\n                        'https://www.patheos.com/blogs/nosacredcows',\n                        'https://www.patheos.com/blogs/nogodblog',\n                        'https://www.patheos.com/blogs/marginoferr',\n                        'https://www.patheos.com/blogs/raindevil',\n                        'https://www.patheos.com/blogs/progressivesecularhumanist',\n                        'https://www.patheos.com/blogs/reasonadvocates',\n                        'https://www.patheos.com/blogs/rationaldoubt',\n                        'https://www.patheos.com/blogs/removingthefigleaf',\n                        'https://www.patheos.com/blogs/rolltodisbelieve',\n                        'https://www.patheos.com/blogs/sacrednaturalism',\n                        'https://www.patheos.com/blogs/secularcinephile',\n                        'https://www.patheos.com/blogs/secularoutpost',\n                        'https://www.patheos.com/blogs/secularspectrum',\n                        'https://www.patheos.com/blogs/secularvoices',\n                        'https://www.patheos.com/blogs/secularworldbyaai',\n                        'https://www.patheos.com/blogs/singod',\n                        'https://www.patheos.com/blogs/templeofthefuture',\n                        'https://www.patheos.com/blogs/thinkingrationally',\n                        'https://www.patheos.com/blogs/tippling',\n                        'https://www.patheos.com/blogs/tokenskeptic',\n                        'https://www.patheos.com/blogs/transparentexpedition',\n                        'https://www.patheos.com/blogs/wwjtd'],\n 'pagan-blogs': ['https://www.patheos.com/blogs/3pagansandacat',\n                 'https://www.patheos.com/blogs/adamantinemuse',\n                 'https://www.patheos.com/blogs/agora',\n                 'https://www.patheos.com/blogs/aidankelly',\n                 'https://www.patheos.com/blogs/ainellewellyn',\n                 'https://www.patheos.com/blogs/theashgrove',\n                 'https://www.patheos.com/blogs/askangus',\n                 'https://www.patheos.com/blogs/awaywiththewitch',\n                 'https://www.patheos.com/blogs/beneaththemoon',\n                 'https://www.patheos.com/blogs/betweentheshadows',\n                 'https://www.patheos.com/blogs/byathameandstang',\n                 'https://www.patheos.com/blogs/bythepalemoonlight',\n                 'https://www.patheos.com/blogs/chargedbythegoddess',\n                 'https://www.patheos.com/blogs/dandelionlady',\n                 'https://www.patheos.com/blogs/dirtheartwitch',\n                 'https://www.patheos.com/blogs/doubletoilandresist',\n                 'https://www.patheos.com/blogs/thefairytalewitch',\n                 'https://www.patheos.com/blogs/matauryn',\n                 'https://www.patheos.com/blogs/fromacommonwell',\n                 'https://www.patheos.com/blogs/gatewaygoddess',\n                 'https://www.patheos.com/blogs/kacealexander',\n                 'https://www.patheos.com/blogs/viviannecrowley',\n                 'https://www.patheos.com/blogs/hawthorneandtherose',\n                 'https://www.patheos.com/blogs/hearthwitchdownunder',\n                 'https://www.patheos.com/blogs/heathenatheart',\n                 'https://www.patheos.com/blogs/holisticspirituality',\n                 'https://www.patheos.com/blogs/johnbeckett',\n                 'https://www.patheos.com/blogs/keepingherkeys',\n                 'https://www.patheos.com/blogs/lasarafirefoxallen',\n                 'https://www.patheos.com/blogs/sadovskypluto',\n                 'https://www.patheos.com/blogs/tempest',\n                 'https://www.patheos.com/blogs/modernwitch',\n                 'https://www.patheos.com/blogs/naturessacredjourney',\n                 'https://www.patheos.com/blogs/nightowlmeditations',\n                 'https://www.patheos.com/blogs/oakandolive',\n                 'https://www.patheos.com/blogs/oathbound',\n                 'https://www.patheos.com/blogs/theothersideofthehedge',\n                 'https://www.patheos.com/blogs/mishamagdalene',\n                 'https://www.patheos.com/blogs/paganinparadise',\n                 'https://www.patheos.com/blogs/pagantama',\n                 'https://www.patheos.com/blogs/poisonersapothecary',\n                 'https://www.patheos.com/blogs/quillofthegoddess',\n                 'https://www.patheos.com/blogs/panmankey',\n                 'https://www.patheos.com/blogs/starandsnake',\n                 'https://www.patheos.com/blogs/starlight',\n                 'https://www.patheos.com/blogs/teaaddictedwitch',\n                 'https://www.patheos.com/blogs/cartomancer',\n                 'https://www.patheos.com/blogs/throughthegrapevine',\n                 'https://www.patheos.com/blogs/translatingworlds',\n                 'https://www.patheos.com/blogs/voodoouniverse',\n                 'https://www.patheos.com/blogs/thewanderingwitch',\n                 'https://www.patheos.com/blogs/waterwitch',\n                 'https://www.patheos.com/blogs/energymagic',\n                 'https://www.patheos.com/blogs/witchofthewoodwithravenwood',\n                 'https://www.patheos.com/blogs/witchonfire',\n                 'https://www.patheos.com/blogs/witchindeed',\n                 'https://www.patheos.com/blogs/witchesandwine',\n                 'https://www.patheos.com/blogs/thewitchesnextdoor',\n                 'https://www.patheos.com/blogs/thezenpagan'],\n 'patheos-partner-blogs': ['https://www.patheos.com/blogs/hispanicevangelicalsandthelambsagenda',\n                           'https://www.patheos.com/blogs/rhemedia'],\n 'politics-blue-blogs': ['https://www.patheos.com/blogs/shanephipps',\n                         'https://www.patheos.com/blogs/faithfuldemocrats',\n                         'https://www.patheos.com/blogs/politicsblue'],\n 'politics-red-blogs': ['https://www.patheos.com/blogs/accesspolitics',\n                        'https://www.patheos.com/blogs/alexparker',\n                        'https://www.patheos.com/blogs/bristolpalin',\n                        'https://www.patheos.com/blogs/conventionofstates',\n                        'https://www.patheos.com/blogs/erickaandersen',\n                        'https://www.patheos.com/blogs/frenchrevolution',\n                        'https://www.patheos.com/blogs/kemberleekaye',\n                        'https://www.patheos.com/blogs/markmeckler',\n                        'https://www.patheos.com/blogs/michaelfarris',\n                        'https://www.patheos.com/blogs/susanwright'],\n 'progressive-christian-blogs': ['https://www.patheos.com/blogs/activisttheology',\n                                 'https://www.patheos.com/blogs/aliciacrosby',\n                                 'https://www.patheos.com/blogs/allsetfree',\n                                 'https://www.patheos.com/blogs/andygill',\n                                 'https://www.patheos.com/blogs/bethanyanderson',\n                                 'https://www.patheos.com/blogs/biblicallyliterate',\n                                 'https://www.patheos.com/blogs/biteintheapple',\n                                 'https://www.patheos.com/blogs/bradjersak',\n                                 'https://www.patheos.com/blogs/brianmclaren',\n                                 'https://www.patheos.com/blogs/browneyedamazon',\n                                 'https://www.patheos.com/blogs/danielpcoleman',\n                                 'https://www.patheos.com/blogs/jacoblupfer',\n                                 'https://www.patheos.com/blogs/carynriswold',\n                                 'https://www.patheos.com/blogs/christianpiatt',\n                                 'https://www.patheos.com/blogs/christianityforthesbnr',\n                                 'https://www.patheos.com/blogs/christianityischanging',\n                                 'https://www.patheos.com/blogs/clintschnekloth',\n                                 'https://www.patheos.com/blogs/comingoutchristian',\n                                 'https://www.patheos.com/blogs/aconvergenceofthought',\n                                 'https://www.patheos.com/blogs/cbf',\n                                 'https://www.patheos.com/blogs/daniellekingstrom',\n                                 'https://www.patheos.com/blogs/divergence',\n                                 'https://www.patheos.com/blogs/ecopreacher',\n                                 'https://www.patheos.com/blogs/davidhenson',\n                                 'https://www.patheos.com/blogs/emergentvillage',\n                                 'https://www.patheos.com/blogs/emmahiggs',\n                                 'https://www.patheos.com/blogs/joshlawson',\n                                 'https://www.patheos.com/blogs/everydayblackmatters',\n                                 'https://www.patheos.com/blogs/faithforward',\n                                 'https://www.patheos.com/blogs/faithinpubliclife',\n                                 'https://www.patheos.com/blogs/faithonthefringe',\n                                 'https://www.patheos.com/blogs/faithshift',\n                                 'https://www.patheos.com/blogs/faithwithwisdom',\n                                 'https://www.patheos.com/blogs/femmevangelical',\n                                 'https://www.patheos.com/blogs/winnievarghese',\n                                 'https://www.patheos.com/blogs/freedhearts',\n                                 'https://www.patheos.com/blogs/freelancechristianity',\n                                 'https://www.patheos.com/blogs/frustratedgrace',\n                                 'https://www.patheos.com/blogs/gloriouslife',\n                                 'https://www.patheos.com/blogs/thegodarticle',\n                                 'https://www.patheos.com/blogs/goodandtruth',\n                                 'https://www.patheos.com/blogs/greymatters',\n                                 'https://www.patheos.com/blogs/hellbound',\n                                 'https://www.patheos.com/blogs/hippieheretic',\n                                 'https://www.patheos.com/blogs/rogerwolsey',\n                                 'https://www.patheos.com/blogs/jaysondbradley',\n                                 'https://www.patheos.com/blogs/irreverin',\n                                 'https://www.patheos.com/blogs/jameswellman',\n                                 'https://www.patheos.com/blogs/jeffhood',\n                                 'https://www.patheos.com/blogs/jerseygirljesus',\n                                 'https://www.patheos.com/blogs/johnshore',\n                                 'https://www.patheos.com/blogs/jonathanwilsonhartgrove',\n                                 'https://www.patheos.com/blogs/keithgiles',\n                                 'https://www.patheos.com/blogs/kermitzarleyblog',\n                                 'https://www.patheos.com/blogs/kimberlystover',\n                                 'https://www.patheos.com/blogs/livingaholyadventure',\n                                 'https://www.patheos.com/blogs/loveminusreligion',\n                                 'https://www.patheos.com/blogs/markvansteenwyk',\n                                 'https://www.patheos.com/blogs/mercynotsacrifice',\n                                 'https://www.patheos.com/blogs/michellecollins',\n                                 'https://www.patheos.com/blogs/modernkinship',\n                                 'https://www.patheos.com/blogs/nadiabolzweber',\n                                 'https://www.patheos.com/blogs/thenakedjesus',\n                                 'https://www.patheos.com/blogs/revangelical',\n                                 'https://www.patheos.com/blogs/formerlyfundie',\n                                 'https://www.patheos.com/blogs/onscripture',\n                                 'https://www.patheos.com/blogs/philfoxrose',\n                                 'https://www.patheos.com/blogs/thepangeablog',\n                                 'https://www.patheos.com/blogs/paperbacktheology',\n                                 'https://www.patheos.com/blogs/theperipateticpreacher',\n                                 'https://www.patheos.com/blogs/rebariley',\n                                 'https://www.patheos.com/blogs/progressiveamerican',\n                                 'https://www.patheos.com/blogs/progressiveyouthministry',\n                                 'https://www.patheos.com/blogs/radicalchristianmillennial',\n                                 'https://www.patheos.com/blogs/rdc',\n                                 'https://www.patheos.com/blogs/refocusingmyfamily',\n                                 'https://www.patheos.com/blogs/religionprof',\n                                 'https://www.patheos.com/blogs/rhetoricraceandreligion',\n                                 'https://www.patheos.com/blogs/richardmurray',\n                                 'https://www.patheos.com/blogs/sarahthebarge',\n                                 'https://www.patheos.com/blogs/zackhunt',\n                                 'https://www.patheos.com/blogs/shalominthecity',\n                                 'https://www.patheos.com/blogs/sherifayerosendahl',\n                                 'https://www.patheos.com/blogs/slacktivist',\n                                 'https://www.patheos.com/blogs/slowchurch',\n                                 'https://www.patheos.com/blogs/soapboxredemption',\n                                 'https://www.patheos.com/blogs/socialjesus',\n                                 'https://www.patheos.com/blogs/spiritchatter',\n                                 'https://www.patheos.com/blogs/spiritualitywithinaddictionandrecovery',\n                                 'https://www.patheos.com/blogs/storiedtheology',\n                                 'https://www.patheos.com/blogs/kaitlinbcurtice',\n                                 'https://www.patheos.com/blogs/talkwiththepreacher',\n                                 'https://www.patheos.com/blogs/teachingnonviolentatonement',\n                                 'https://www.patheos.com/blogs/thoughtfulpastor',\n                                 'https://www.patheos.com/blogs/todojustice',\n                                 'https://www.patheos.com/blogs/unfundamentalistchristians',\n                                 'https://www.patheos.com/blogs/unfundamentalistparenting',\n                                 'https://www.patheos.com/blogs/unsystematictheology',\n                                 'https://www.patheos.com/blogs/mariadixonhall',\n                                 'https://www.patheos.com/blogs/voicesofrawtools',\n                                 'https://www.patheos.com/blogs/waywardwoman',\n                                 'https://www.patheos.com/blogs/whatgodwantsforyourlife',\n                                 'https://www.patheos.com/blogs/whiskeypreacher',\n                                 'https://www.patheos.com/blogs/whowechoosetobe',\n                                 'https://www.patheos.com/blogs/marilynmcentyre'],\n 'sixseeds-family-blogs': ['https://www.patheos.com/blogs/ashleywillis',\n                           'https://www.patheos.com/blogs/askshaunti',\n                           'https://www.patheos.com/blogs/bootcampaign',\n                           'https://www.patheos.com/blogs/jenniferchronicles',\n                           'https://www.patheos.com/blogs/clippityclip',\n                           'https://www.patheos.com/blogs/davewillis',\n                           'https://www.patheos.com/blogs/devonfranklin',\n                           'https://www.patheos.com/blogs/hearthandhome',\n                           'https://www.patheos.com/blogs/kelleymathews',\n                           'https://www.patheos.com/blogs/manlytrainingministries',\n                           'https://www.patheos.com/blogs/marriagetoday',\n                           'https://www.patheos.com/blogs/marriedandyoung',\n                           'https://www.patheos.com/blogs/notalonespecialneedsparenting',\n                           'https://www.patheos.com/blogs/sheilaqualls',\n                           'https://www.patheos.com/blogs/notinggrace',\n                           'https://www.patheos.com/blogs/theprivilegeofparenting',\n                           'https://www.patheos.com/blogs/rolandwarren',\n                           'https://www.patheos.com/blogs/seanlowe',\n                           'https://www.patheos.com/blogs/showhope',\n                           'https://www.patheos.com/blogs/someassemblyrequired',\n                           'https://www.patheos.com/blogs/terrygaspard',\n                           'https://www.patheos.com/blogs/timwright',\n                           'https://www.patheos.com/blogs/victoriousliving',\n                           'https://www.patheos.com/blogs/yourfamilyexpert']}\n"
    }
   ],
   "source": [
    "pprint(results)"
   ]
  },
  {
   "cell_type": "code",
   "execution_count": 26,
   "metadata": {},
   "outputs": [
    {
     "output_type": "stream",
     "name": "stdout",
     "text": "20\n597\n"
    }
   ],
   "source": [
    "cat = 0\n",
    "blog = 0\n",
    "\n",
    "for k in results:\n",
    "    cat += 1\n",
    "    for i in results[k]:\n",
    "        blog += 1\n",
    "\n",
    "print(cat)\n",
    "print(blog)"
   ]
  }
 ]
}