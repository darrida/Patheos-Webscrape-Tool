{
 "cells": [
  {
   "cell_type": "code",
   "execution_count": 1,
   "metadata": {},
   "outputs": [],
   "source": [
    "# STANDARD\n",
    "from pprint import pprint\n",
    "\n",
    "# PyPI\n",
    "from bs4 import BeautifulSoup as BS\n",
    "import requests\n",
    "from tqdm import tqdm\n",
    "\n",
    "# LOCAL\n",
    "from interface_db import db_interface_sqlite as data"
   ]
  },
  {
   "cell_type": "code",
   "execution_count": 9,
   "metadata": {},
   "outputs": [
    {
     "name": "stdout",
     "output_type": "stream",
     "text": [
      "https://www.patheos.com/buddhist-blogs\n",
      "buddhist-blogs Inserted: 0 | Not Inserted: 5 | Errors: 0\n",
      "https://www.patheos.com/catholic-blogs\n",
      "catholic-blogs Inserted: 0 | Not Inserted: 89 | Errors: 0\n",
      "https://www.patheos.com/contemplative-blogs\n",
      "contemplative-blogs Inserted: 0 | Not Inserted: 8 | Errors: 0\n",
      "https://www.patheos.com/evangelical-blogs\n",
      "evangelical-blogs Inserted: 0 | Not Inserted: 84 | Errors: 0\n",
      "https://www.patheos.com/general-christian-blogs\n",
      "general-christian-blogs Inserted: 0 | Not Inserted: 18 | Errors: 0\n",
      "https://www.patheos.com/hindu-blogs\n",
      "hindu-blogs Inserted: 0 | Not Inserted: 4 | Errors: 0\n",
      "https://www.patheos.com/jewish-blogs\n",
      "jewish-blogs Inserted: 0 | Not Inserted: 6 | Errors: 0\n",
      "https://www.patheos.com/latter-day-saint-blogs\n",
      "latter-day-saint-blogs Inserted: 0 | Not Inserted: 17 | Errors: 0\n",
      "https://www.patheos.com/muslim-blogs\n",
      "muslim-blogs Inserted: 0 | Not Inserted: 34 | Errors: 0\n",
      "https://www.patheos.com/new-visions-blogs\n",
      "new-visions-blogs Inserted: 32 | Not Inserted: 3 | Errors: 0\n",
      "https://www.patheos.com/nonreligious-blogs\n",
      "nonreligious-blogs Inserted: 65 | Not Inserted: 0 | Errors: 0\n",
      "https://www.patheos.com/pagan-blogs\n",
      "pagan-blogs Inserted: 59 | Not Inserted: 0 | Errors: 0\n",
      "https://www.patheos.com/progressive-christian-blogs\n",
      "progressive-christian-blogs Inserted: 105 | Not Inserted: 1 | Errors: 0\n",
      "https://www.patheos.com/more-voices-blogs\n",
      "more-voices-blogs Inserted: 2 | Not Inserted: 1 | Errors: 0\n",
      "https://www.patheos.com/sixseeds-family-blogs\n",
      "sixseeds-family-blogs Inserted: 24 | Not Inserted: 0 | Errors: 0\n",
      "https://www.patheos.com/politics-blue-blogs\n",
      "politics-blue-blogs Inserted: 3 | Not Inserted: 0 | Errors: 0\n",
      "https://www.patheos.com/politics-red-blogs\n",
      "politics-red-blogs Inserted: 10 | Not Inserted: 0 | Errors: 0\n",
      "https://www.patheos.com/entertainment-blogs\n",
      "entertainment-blogs Inserted: 12 | Not Inserted: 0 | Errors: 0\n",
      "https://www.patheos.com/faith-and-work-blogs\n",
      "faith-and-work-blogs Inserted: 16 | Not Inserted: 0 | Errors: 0\n",
      "https://www.patheos.com/patheos-partner-blogs\n",
      "patheos-partner-blogs Inserted: 0 | Not Inserted: 2 | Errors: 0\n"
     ]
    }
   ],
   "source": [
    "with data.database() as db:\n",
    "    result = db.execute(\"SELECT name FROM categories\")\n",
    "    for i in result:\n",
    "        results = fetch_and_insert_blogs(i[0])\n",
    "        print(f'Inserted: {results.inserted} | Not Inserted: {results.not_inserted} | Errors: {results.exceptions}')"
   ]
  }
 ],
 "metadata": {
  "file_extension": ".py",
  "kernelspec": {
   "display_name": "Python 3",
   "language": "python",
   "name": "python3"
  },
  "language_info": {
   "codemirror_mode": {
    "name": "ipython",
    "version": 3
   },
   "file_extension": ".py",
   "mimetype": "text/x-python",
   "name": "python",
   "nbconvert_exporter": "python",
   "pygments_lexer": "ipython3",
   "version": "3.8.2"
  },
  "mimetype": "text/x-python",
  "name": "python",
  "npconvert_exporter": "python",
  "pygments_lexer": "ipython3",
  "version": 3
 },
 "nbformat": 4,
 "nbformat_minor": 4
}
