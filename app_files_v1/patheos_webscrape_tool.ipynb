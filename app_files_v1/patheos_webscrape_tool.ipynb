{
 "cells": [
  {
   "cell_type": "code",
   "execution_count": 9,
   "metadata": {},
   "outputs": [],
   "source": [
    "import webscrape_pd_scrape_patheos as web\n",
    "import requests\n",
    "from bs4 import BeautifulSoup as BS\n",
    "from tqdm import tqdm\n",
    "from pprint import pprint\n",
    "import db_interface_sqlite as db"
   ]
  },
  {
   "cell_type": "code",
   "execution_count": 6,
   "metadata": {},
   "outputs": [],
   "source": [
    "def fetch_blogs():\n",
    "    \"\"\"[ ] Document for refactoring\n",
    "    \n",
    "    \"\"\"\n",
    "    url = 'http://www.patheos.com/blogs'\n",
    "    response = requests.get(url)\n",
    "    soup = BS(response.content, 'html.parser')\n",
    "\n",
    "    blog_list = []\n",
    "\n",
    "    for blog in soup.find_all('div', attrs={\"class\":\"related-content clearfix related-content-sm decorated channel-list\"}):\n",
    "        blog_url1 = blog.find('a')\n",
    "        blog_url2 = blog_url1['href']\n",
    "        blog_list.append(blog_url2) \n",
    "\n",
    "    blog_lists = []\n",
    "    \n",
    "    for i in blog_list:\n",
    "        split_url = i.rsplit(\"/\")\n",
    "        blog_name = split_url[3]\n",
    "        blog_lists.append(blog_name)\n",
    "    \n",
    "    blog_dict = {i:[] for i in blog_lists}\n",
    "\n",
    "    blog_cat_prefix = \"https://www.patheos.com/\"\n",
    "\n",
    "    i = 0    \n",
    "    for blog_urls in tqdm(blog_dict, desc='Fetch blog urls for each category'):\n",
    "        if blog_urls:\n",
    "            query_url = blog_cat_prefix + blog_urls\n",
    "            #sleep(random.uniform(1, 3))\n",
    "            subsub_blog = requests.get(query_url)\n",
    "            soup2 = BS(subsub_blog.content, 'html.parser')\n",
    "            for blog in soup2.find_all('div', attrs={\"class\":\"author-info\"}):\n",
    "                for blog_url0 in blog.find_all('div', attrs={\"class\":\"title\"}):\n",
    "                    blog_url1 = blog_url0.find('a')\n",
    "                    blog_url2 = blog_url1['href']\n",
    "                    blog_dict[blog_urls].append(blog_url2)\n",
    "\n",
    "            i = i + 1\n",
    "        else:\n",
    "            continue\n",
    "    return blog_dict"
   ]
  },
  {
   "cell_type": "code",
   "execution_count": 7,
   "metadata": {},
   "outputs": [
    {
     "name": "stderr",
     "output_type": "stream",
     "text": [
      "Fetch blog urls for each category: 100%|██████████| 20/20 [00:08<00:00,  2.48it/s]\n"
     ]
    }
   ],
   "source": [
    "results = fetch_blogs()"
   ]
  },
  {
   "cell_type": "code",
   "execution_count": null,
   "metadata": {},
   "outputs": [],
   "source": [
    "pprint(results)"
   ]
  },
  {
   "cell_type": "code",
   "execution_count": 11,
   "metadata": {},
   "outputs": [],
   "source": [
    "with db.database() as data:\n",
    "    pass"
   ]
  },
  {
   "cell_type": "code",
   "execution_count": null,
   "metadata": {},
   "outputs": [],
   "source": [
    "sqliteConnection = sqlite3.connect(Path.home() / \"py_apps\" / \"_appdata\" / \"webscrape_patheos\" / \"patheos.db\")\n",
    "cursor = sqliteConnection.cursor()\n",
    "print(\"Connected to SQLite\")\n",
    "\n",
    "sqliteConnection.create_function(\"TOTILECASE\", 1, _toTileCase)\n",
    "select_query = \"SELECT TOTILECASE(name) FROM SqliteDb_developers where id = ?\"\n",
    "cursor.execute(select_query, (id,))\n",
    "name = cursor.fetchone()\n",
    "print(\"Developer Name is\", name)\n",
    "cursor.close()"
   ]
  }
 ],
 "metadata": {
  "kernelspec": {
   "display_name": "Python 3",
   "language": "python",
   "name": "python3"
  },
  "language_info": {
   "codemirror_mode": {
    "name": "ipython",
    "version": 3
   },
   "file_extension": ".py",
   "mimetype": "text/x-python",
   "name": "python",
   "nbconvert_exporter": "python",
   "pygments_lexer": "ipython3",
   "version": "3.7.6"
  }
 },
 "nbformat": 4,
 "nbformat_minor": 4
}
