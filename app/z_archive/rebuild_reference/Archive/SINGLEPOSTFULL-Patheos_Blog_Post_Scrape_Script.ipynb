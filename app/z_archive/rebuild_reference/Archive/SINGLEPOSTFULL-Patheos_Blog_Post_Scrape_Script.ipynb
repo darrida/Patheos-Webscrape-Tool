{
 "cells": [
  {
   "cell_type": "code",
   "execution_count": null,
   "metadata": {},
   "outputs": [],
   "source": [
    "from bs4 import BeautifulSoup as BS\n",
    "import pandas as pd\n",
    "import csv\n",
    "import requests\n",
    "import re\n",
    "import numpy as np"
   ]
  },
  {
   "cell_type": "code",
   "execution_count": null,
   "metadata": {},
   "outputs": [],
   "source": [
    "with open('patheos_posts.csv', 'r') as f:\n",
    "    reader = csv.reader(f)\n",
    "    patheos_posts = list(reader)\n",
    "print(patheos_posts)\n",
    "type(patheos_posts)"
   ]
  },
  {
   "cell_type": "code",
   "execution_count": null,
   "metadata": {},
   "outputs": [],
   "source": [
    "df = pd.DataFrame(columns=('post','date','author','content','url'))\n",
    "## This first url is the one that worked for the code below.\n",
    "#url = 'http://www.patheos.com/blogs/purposeinleadership/2016/07/06/leading-emotional-culture/'\n",
    "# url = 'http://www.patheos.com/blogs/victoriousliving/2018/01/5-steps-spiritual-nourishment/'\n",
    "#response = requests.get(url)\n"
   ]
  },
  {
   "cell_type": "code",
   "execution_count": null,
   "metadata": {},
   "outputs": [],
   "source": [
    "for url in patheos_posts:\n",
    "    response = requests.get(url)\n",
    "    soup = BS(response.content, 'html.parser')\n",
    "    indiv_post = []\n",
    "    g_title = soup.find(\"h1\", {\"class\" : \"entry-title\"})\n",
    "    for g_basic in soup.find_all(\"div\", {\"class\": \"pull-left\"})[14:15]:\n",
    "        g_author = g_basic.find(\"span\", {\"itemprop\": \"author\"})\n",
    "        g_date = g_basic.find(string=re.compile(\" \"))\n",
    "    g_content = soup.find(\"div\", {\"class\": \"story-block\"})\n",
    "    df2 = pd.DataFrame([[g_title.text, g_date, g_author.text, g_content.text, url]], columns=('post','date','author','content','url'))\n",
    "    df.append(df2, ignore_index=True)"
   ]
  },
  {
   "cell_type": "raw",
   "metadata": {},
   "source": [
    "soup = BS(response.content, 'html.parser')\n",
    "#soup.prettify"
   ]
  },
  {
   "cell_type": "raw",
   "metadata": {},
   "source": [
    "## this identifies the locations of the blog post Title, Author, Content, \n",
    "## and generalized Date (still need to find a way to strip this out)\n",
    "indiv_post = []\n",
    "g_title = soup.find(\"h1\", {\"class\" : \"entry-title\"})\n",
    "for g_basic in soup.find_all(\"div\", {\"class\": \"pull-left\"})[14:15]:\n",
    "    g_author = g_basic.find(\"span\", {\"itemprop\": \"author\"})\n",
    "    g_date = g_basic.find(string=re.compile(\" \"))\n",
    "g_content = soup.find(\"div\", {\"class\": \"story-block\"})\n",
    "\n",
    "## this prints the information so that I can see what I'm doing (including labels above each type of info)\n",
    "#print(\"TITLE\")\n",
    "#print(g_title.text)\n",
    "#print(\"DATE\")\n",
    "#print(g_date)\n",
    "#print(\"AUTHOR\")\n",
    "#print(g_author.text)\n",
    "#print(\"URL\")\n",
    "#print(url)\n",
    "#print(\"CONTENT\")\n",
    "#print(g_content.text)"
   ]
  },
  {
   "cell_type": "raw",
   "metadata": {},
   "source": [
    "df2 = pd.DataFrame([[g_title.text, g_date, g_author.text, g_content.text, url]], columns=('post','date','author','content','url'))\n",
    "df.append(df2, ignore_index=True)"
   ]
  }
 ],
 "metadata": {
  "kernelspec": {
   "display_name": "Python 3",
   "language": "python",
   "name": "python3"
  },
  "language_info": {
   "codemirror_mode": {
    "name": "ipython",
    "version": 3
   },
   "file_extension": ".py",
   "mimetype": "text/x-python",
   "name": "python",
   "nbconvert_exporter": "python",
   "pygments_lexer": "ipython3",
   "version": "3.6.5"
  }
 },
 "nbformat": 4,
 "nbformat_minor": 2
}
