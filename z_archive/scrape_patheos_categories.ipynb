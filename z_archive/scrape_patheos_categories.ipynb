{
 "cells": [
  {
   "cell_type": "code",
   "execution_count": 2,
   "metadata": {},
   "outputs": [],
   "source": [
    "# STANDARD\n",
    "from pprint import pprint\n",
    "\n",
    "# PyPI\n",
    "from bs4 import BeautifulSoup as BS\n",
    "import requests\n",
    "from tqdm import tqdm\n",
    "\n",
    "# LOCAL\n",
    "from interface_db import db_interface_sqlite as data\n",
    "from interface_website import website_tools as tools\n",
    "from interface_website import website_patheos as patheos"
   ]
  },
  {
   "cell_type": "code",
   "execution_count": null,
   "metadata": {},
   "outputs": [],
   "source": [
    "with data.database() as db:\n",
    "    db.create_tables()\n",
    "    db.insert_update_site_pages(0, 149)\n",
    "    result = db.execute(f\"SELECT number FROM site_pages WHERE site_id = 47\")\n",
    "    #print(result[0][0])\n",
    "    for i in result:\n",
    "        results = patheos.fetch_and_insert_blogs(i[0])\n",
    "        print(f'Inserted: {results.inserted} | Not Inserted: {results.not_inserted} | Errors: {results.exceptions}')"
   ]
  },
  {
   "cell_type": "code",
   "execution_count": null,
   "metadata": {},
   "outputs": [],
   "source": [
    "patheos.insert_website('Patheos Blogs', 'https://patheos.com/blogs')\n",
    "results = patheos.fetch_and_insert_categories('Patheos Blogs', 1)\n",
    "with data.database() as db:\n",
    "    result = db.execute(\"SELECT name FROM categories\")\n",
    "    for i in result:\n",
    "        results = patheos.fetch_and_insert_blogs(i[0])\n",
    "        print(f'Inserted: {results.inserted} | Not Inserted: {results.not_inserted} | Errors: {results.exceptions}')"
   ]
  },
  {
   "cell_type": "raw",
   "metadata": {},
   "source": [
    "with data.database() as db:\n",
    "    result = db.execute(\"SELECT * FROM blogs WHERE url = 'https://www.patheos.com/blogs/jesuscreed'\")\n",
    "    print(result)\n",
    "    result = db.execute(f\"SELECT number FROM site_pages WHERE site_id = 149\")\n",
    "    print(result)"
   ]
  },
  {
   "cell_type": "code",
   "execution_count": null,
   "metadata": {},
   "outputs": [],
   "source": [
    "import sys\n",
    "\n",
    "number_of_new_pages = patheos.number_of_blog_pages('Jesus Creed')\n",
    "print(f'\\nNew Pages: {number_of_new_pages}')"
   ]
  },
  {
   "cell_type": "raw",
   "metadata": {
    "jupyter": {
     "source_hidden": true
    }
   },
   "source": [
    "import sys\n",
    "import time\n",
    "import datetime\n",
    "\n",
    "results = tools.insert_results()\n",
    "\n",
    "\n",
    "# # PLACEHOLDER\n",
    "# def scrape_website_initialize(website_id):\n",
    "#     with data.database() as db:\n",
    "#         website = db.query_websites(website_id=website_id)\n",
    "    \n",
    "\n",
    "# # PLACEHOLDER\n",
    "# def scrape_category_initialize(category_id):\n",
    "#     with data.database() as db:\n",
    "#         category = db.query_categories(category_id=category_id)\n",
    "#         blog_list = db.execute(f\"\"\"SELECT id FROM categories WHERE category_id = {category.id}\"\"\")\n",
    "#     scrape_blog_initialize(blog_id=blog.id)\n",
    "\n",
    "        \n",
    "def scrape_blog_initialize(blog_id):\n",
    "    with data.database() as db:\n",
    "        blog = db.query_blogs(blog_id=blog_id)\n",
    "        total_blogs = db.execute(f\"\"\"SELECT COUNT(*) FROM blogs WHERE category_id = {blog.category_id}\"\"\")[0][0]\n",
    "    total_pages = patheos.number_of_blog_pages(blog_id=blog.id)\n",
    "    resume_page = patheos.find_page_resume_scrape(blog.id)\n",
    "    \n",
    "    page_number = resume_page\n",
    "    total = 0\n",
    "    continue_on = True\n",
    "    while continue_on == True:\n",
    "        base_url = blog.url + '/page/' + str(page_number)\n",
    "        #print(base_url)\n",
    "        results_l = patheos.scrape_posts_on_page(base_url)\n",
    "        if results_l != 404:\n",
    "            for i in results_l:\n",
    "                try:\n",
    "                    post = data.post(i, blog.id)\n",
    "#                     post = patheos.scrape_post(post, 'no')\n",
    "                    if tools.check_url_new('posts', i) == True:\n",
    "                        post = patheos.scrape_post(post, 'no')\n",
    "                        if post.title == None:\n",
    "                            print('no title')\n",
    "                        with data.database() as db:\n",
    "                            db.insert_post(post)\n",
    "                            db.commit()\n",
    "                            results.inserted += 1\n",
    "                    else:\n",
    "                        # <placeholder for logging>\n",
    "                        results.not_inserted += 1\n",
    "                    total += 1\n",
    "                    sys.stdout.write('\\r' + 'BLOG: (' + str(blog.id) + '/' + str(total_blogs) + ') '  + blog.name \n",
    "                                          + ' | PAGE: ' + str(page_number) + '/' + str(total_pages) \n",
    "                                          + ' | TOTAL PROCESSED: ' + str(total) \n",
    "                                          + ' | INSERTED: ' + str(results.inserted)\n",
    "                                          + ' | NOT INSERTED: ' + str(results.not_inserted))\n",
    "                except AttributeError:\n",
    "                    with data.database() as db:\n",
    "                        url_error = data.url_error(i, 'post', blog_id)\n",
    "                        db.insert_error_url(url_error)\n",
    "        else:\n",
    "            continue_on = False\n",
    "        page_number += 1\n",
    "        sys.stdout.write('\\r' + 'BLOG: (' + str(blog.id) + '/' + str(total_blogs) + ') '  + blog.name \n",
    "                              + ' | PAGE: ' + str(page_number) + '/' + str(total_pages) \n",
    "                              + ' | TOTAL PROCESSED: ' + str(total) \n",
    "                              + ' | INSERTED: ' + str(results.inserted)\n",
    "                              + ' | NOT INSERTED: ' + str(results.not_inserted))\n",
    "    with data.database() as db:\n",
    "        db.update_date_blog(blog)"
   ]
  },
  {
   "cell_type": "raw",
   "metadata": {
    "jupyter": {
     "source_hidden": true
    }
   },
   "source": [
    "with data.database() as db:\n",
    "    list_websites = db.execute(\"\"\"SELECT id FROM websites\"\"\")[0]\n",
    "    #print(list_websites)\n",
    "    for website_id in list_websites:\n",
    "        website = db.query_websites(website_id=website_id)\n",
    "        list_categories = db.execute(f\"\"\"SELECT id FROM categories WHERE website_id = {website.id}\"\"\")\n",
    "        #print(list_categories)\n",
    "        for category_id in list_categories:\n",
    "            category = db.query_categories(category_id=category_id[0])\n",
    "            print(category.id, category.name)\n",
    "            list_blogs = db.execute(f\"\"\"SELECT id, name FROM blogs WHERE category_id={category.id} ORDER BY last_date\"\"\")\n",
    "            for blog_id in list_blogs:\n",
    "                blog = db.query_blogs(blog_id=blog_id[0])\n",
    "                scrape_blog_initialize(blog.id)\n",
    "            "
   ]
  },
  {
   "cell_type": "raw",
   "metadata": {
    "jupyter": {
     "source_hidden": true
    }
   },
   "source": [
    "def scrape_patheos(website_id):    \n",
    "    #print(website_id)\n",
    "    with data.database() as db:\n",
    "        category_ids = db.query_table_ids_all('categories', 'website_id', website_id)#, last_date_ascending=True)\n",
    "        print(category_ids)\n",
    "        for i in category_ids:\n",
    "            with data.database() as db:\n",
    "                category = db.query_categories(category_id=i)\n",
    "                print(category.name)\n",
    "                blog_ids = db.query_table_ids_all('blogs', 'category_id', category.id)#, last_date_ascending=True)\n",
    "                for i in blog_ids:\n",
    "                    scrape_blog_initialize(i)\n",
    "            with data.database() as db:\n",
    "                db.update_date_category(category)"
   ]
  },
  {
   "cell_type": "code",
   "execution_count": 3,
   "metadata": {},
   "outputs": [],
   "source": [
    "def main():\n",
    "    #try:\n",
    "    with data.database() as db:\n",
    "        website_ids = db.query_table_ids_all('websites')#, last_date_ascending=True)\n",
    "        #print(website_ids)\n",
    "        for i in website_ids:\n",
    "            website = db.query_websites(website_id=i)\n",
    "            #print(website)\n",
    "            if website.name == 'Patheos Blogs':\n",
    "                print(website.name)\n",
    "                #patheos.fetch_and_insert_categories(website_id=website.id)\n",
    "                patheos.scrape_patheos(website.id)\n",
    "            else:\n",
    "                pass\n",
    "    #except Exception:\n",
    "        \n",
    "        "
   ]
  },
  {
   "cell_type": "code",
   "execution_count": null,
   "metadata": {},
   "outputs": [
    {
     "name": "stdout",
     "output_type": "stream",
     "text": [
      "Patheos Blogs\n",
      "[2, 3, 4, 5, 6, 7, 8, 9, 10, 11, 12, 13, 14, 15, 16, 17, 18, 19, 20, 1]\n",
      "catholic-blogs\n",
      "BLOG: (15/89) Catholic and Enjoying It! | PAGE: 692/1990 | TOTAL PROCESSED: 929 | INSERTED: 914 | NOT INSERTED: 15"
     ]
    }
   ],
   "source": [
    "main()"
   ]
  },
  {
   "cell_type": "code",
   "execution_count": null,
   "metadata": {},
   "outputs": [],
   "source": []
  }
 ],
 "metadata": {
  "file_extension": ".py",
  "kernelspec": {
   "display_name": "Python 3",
   "language": "python",
   "name": "python3"
  },
  "language_info": {
   "codemirror_mode": {
    "name": "ipython",
    "version": 3
   },
   "file_extension": ".py",
   "mimetype": "text/x-python",
   "name": "python",
   "nbconvert_exporter": "python",
   "pygments_lexer": "ipython3",
   "version": "3.8.2"
  },
  "mimetype": "text/x-python",
  "name": "python",
  "npconvert_exporter": "python",
  "pygments_lexer": "ipython3",
  "version": 3
 },
 "nbformat": 4,
 "nbformat_minor": 4
}
